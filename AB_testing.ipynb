{
 "cells": [
  {
   "cell_type": "code",
   "execution_count": 11,
   "metadata": {},
   "outputs": [],
   "source": [
    "#IMport libraries\n",
    "import pandas as pd\n",
    "import numpy as np\n",
    "import matplotlib.pyplot as plt\n",
    "import seaborn as sns\n",
    "sns.set()\n",
    "import statsmodels.api as sm"
   ]
  },
  {
   "cell_type": "code",
   "execution_count": 12,
   "metadata": {},
   "outputs": [],
   "source": [
    "#LOAD DATA\n",
    "df = pd.read_csv(\"ABAdRecall.csv\")"
   ]
  },
  {
   "cell_type": "code",
   "execution_count": 13,
   "metadata": {},
   "outputs": [
    {
     "data": {
      "text/html": [
       "<div>\n",
       "<style scoped>\n",
       "    .dataframe tbody tr th:only-of-type {\n",
       "        vertical-align: middle;\n",
       "    }\n",
       "\n",
       "    .dataframe tbody tr th {\n",
       "        vertical-align: top;\n",
       "    }\n",
       "\n",
       "    .dataframe thead th {\n",
       "        text-align: right;\n",
       "    }\n",
       "</style>\n",
       "<table border=\"1\" class=\"dataframe\">\n",
       "  <thead>\n",
       "    <tr style=\"text-align: right;\">\n",
       "      <th></th>\n",
       "      <th>auction_id</th>\n",
       "      <th>experiment</th>\n",
       "      <th>date</th>\n",
       "      <th>hour</th>\n",
       "      <th>device_make</th>\n",
       "      <th>platform_os</th>\n",
       "      <th>browser</th>\n",
       "      <th>yes</th>\n",
       "      <th>no</th>\n",
       "    </tr>\n",
       "  </thead>\n",
       "  <tbody>\n",
       "    <tr>\n",
       "      <th>0</th>\n",
       "      <td>0008ef63-77a7-448b-bd1e-075f42c55e39</td>\n",
       "      <td>exposed</td>\n",
       "      <td>2020-07-10</td>\n",
       "      <td>8</td>\n",
       "      <td>Generic Smartphone</td>\n",
       "      <td>6</td>\n",
       "      <td>Chrome Mobile</td>\n",
       "      <td>0</td>\n",
       "      <td>0</td>\n",
       "    </tr>\n",
       "    <tr>\n",
       "      <th>1</th>\n",
       "      <td>000eabc5-17ce-4137-8efe-44734d914446</td>\n",
       "      <td>exposed</td>\n",
       "      <td>2020-07-07</td>\n",
       "      <td>10</td>\n",
       "      <td>Generic Smartphone</td>\n",
       "      <td>6</td>\n",
       "      <td>Chrome Mobile</td>\n",
       "      <td>0</td>\n",
       "      <td>0</td>\n",
       "    </tr>\n",
       "    <tr>\n",
       "      <th>2</th>\n",
       "      <td>0016d14a-ae18-4a02-a204-6ba53b52f2ed</td>\n",
       "      <td>exposed</td>\n",
       "      <td>2020-07-05</td>\n",
       "      <td>2</td>\n",
       "      <td>E5823</td>\n",
       "      <td>6</td>\n",
       "      <td>Chrome Mobile WebView</td>\n",
       "      <td>0</td>\n",
       "      <td>1</td>\n",
       "    </tr>\n",
       "    <tr>\n",
       "      <th>3</th>\n",
       "      <td>00187412-2932-4542-a8ef-3633901c98d9</td>\n",
       "      <td>control</td>\n",
       "      <td>2020-07-03</td>\n",
       "      <td>15</td>\n",
       "      <td>Samsung SM-A705FN</td>\n",
       "      <td>6</td>\n",
       "      <td>Facebook</td>\n",
       "      <td>0</td>\n",
       "      <td>0</td>\n",
       "    </tr>\n",
       "    <tr>\n",
       "      <th>4</th>\n",
       "      <td>001a7785-d3fe-4e11-a344-c8735acacc2c</td>\n",
       "      <td>control</td>\n",
       "      <td>2020-07-03</td>\n",
       "      <td>15</td>\n",
       "      <td>Generic Smartphone</td>\n",
       "      <td>6</td>\n",
       "      <td>Chrome Mobile</td>\n",
       "      <td>0</td>\n",
       "      <td>0</td>\n",
       "    </tr>\n",
       "  </tbody>\n",
       "</table>\n",
       "</div>"
      ],
      "text/plain": [
       "                             auction_id experiment        date  hour  \\\n",
       "0  0008ef63-77a7-448b-bd1e-075f42c55e39    exposed  2020-07-10     8   \n",
       "1  000eabc5-17ce-4137-8efe-44734d914446    exposed  2020-07-07    10   \n",
       "2  0016d14a-ae18-4a02-a204-6ba53b52f2ed    exposed  2020-07-05     2   \n",
       "3  00187412-2932-4542-a8ef-3633901c98d9    control  2020-07-03    15   \n",
       "4  001a7785-d3fe-4e11-a344-c8735acacc2c    control  2020-07-03    15   \n",
       "\n",
       "          device_make  platform_os                browser  yes  no  \n",
       "0  Generic Smartphone            6          Chrome Mobile    0   0  \n",
       "1  Generic Smartphone            6          Chrome Mobile    0   0  \n",
       "2               E5823            6  Chrome Mobile WebView    0   1  \n",
       "3   Samsung SM-A705FN            6               Facebook    0   0  \n",
       "4  Generic Smartphone            6          Chrome Mobile    0   0  "
      ]
     },
     "execution_count": 13,
     "metadata": {},
     "output_type": "execute_result"
    }
   ],
   "source": [
    "df.head() "
   ]
  },
  {
   "cell_type": "code",
   "execution_count": 14,
   "metadata": {},
   "outputs": [
    {
     "name": "stdout",
     "output_type": "stream",
     "text": [
      "<class 'pandas.core.frame.DataFrame'>\n",
      "RangeIndex: 8077 entries, 0 to 8076\n",
      "Data columns (total 9 columns):\n",
      " #   Column       Non-Null Count  Dtype \n",
      "---  ------       --------------  ----- \n",
      " 0   auction_id   8077 non-null   object\n",
      " 1   experiment   8077 non-null   object\n",
      " 2   date         8077 non-null   object\n",
      " 3   hour         8077 non-null   int64 \n",
      " 4   device_make  8077 non-null   object\n",
      " 5   platform_os  8077 non-null   int64 \n",
      " 6   browser      8077 non-null   object\n",
      " 7   yes          8077 non-null   int64 \n",
      " 8   no           8077 non-null   int64 \n",
      "dtypes: int64(4), object(5)\n",
      "memory usage: 568.0+ KB\n"
     ]
    }
   ],
   "source": [
    "df.info()"
   ]
  },
  {
   "cell_type": "code",
   "execution_count": 15,
   "metadata": {},
   "outputs": [
    {
     "data": {
      "text/html": [
       "<div>\n",
       "<style scoped>\n",
       "    .dataframe tbody tr th:only-of-type {\n",
       "        vertical-align: middle;\n",
       "    }\n",
       "\n",
       "    .dataframe tbody tr th {\n",
       "        vertical-align: top;\n",
       "    }\n",
       "\n",
       "    .dataframe thead th {\n",
       "        text-align: right;\n",
       "    }\n",
       "</style>\n",
       "<table border=\"1\" class=\"dataframe\">\n",
       "  <thead>\n",
       "    <tr style=\"text-align: right;\">\n",
       "      <th></th>\n",
       "      <th>hour</th>\n",
       "      <th>platform_os</th>\n",
       "      <th>yes</th>\n",
       "      <th>no</th>\n",
       "    </tr>\n",
       "  </thead>\n",
       "  <tbody>\n",
       "    <tr>\n",
       "      <th>count</th>\n",
       "      <td>8077.000000</td>\n",
       "      <td>8077.000000</td>\n",
       "      <td>8077.000000</td>\n",
       "      <td>8077.000000</td>\n",
       "    </tr>\n",
       "    <tr>\n",
       "      <th>mean</th>\n",
       "      <td>11.615080</td>\n",
       "      <td>5.947134</td>\n",
       "      <td>0.070818</td>\n",
       "      <td>0.083075</td>\n",
       "    </tr>\n",
       "    <tr>\n",
       "      <th>std</th>\n",
       "      <td>5.734879</td>\n",
       "      <td>0.224333</td>\n",
       "      <td>0.256537</td>\n",
       "      <td>0.276013</td>\n",
       "    </tr>\n",
       "    <tr>\n",
       "      <th>min</th>\n",
       "      <td>0.000000</td>\n",
       "      <td>5.000000</td>\n",
       "      <td>0.000000</td>\n",
       "      <td>0.000000</td>\n",
       "    </tr>\n",
       "    <tr>\n",
       "      <th>25%</th>\n",
       "      <td>7.000000</td>\n",
       "      <td>6.000000</td>\n",
       "      <td>0.000000</td>\n",
       "      <td>0.000000</td>\n",
       "    </tr>\n",
       "    <tr>\n",
       "      <th>50%</th>\n",
       "      <td>13.000000</td>\n",
       "      <td>6.000000</td>\n",
       "      <td>0.000000</td>\n",
       "      <td>0.000000</td>\n",
       "    </tr>\n",
       "    <tr>\n",
       "      <th>75%</th>\n",
       "      <td>15.000000</td>\n",
       "      <td>6.000000</td>\n",
       "      <td>0.000000</td>\n",
       "      <td>0.000000</td>\n",
       "    </tr>\n",
       "    <tr>\n",
       "      <th>max</th>\n",
       "      <td>23.000000</td>\n",
       "      <td>7.000000</td>\n",
       "      <td>1.000000</td>\n",
       "      <td>1.000000</td>\n",
       "    </tr>\n",
       "  </tbody>\n",
       "</table>\n",
       "</div>"
      ],
      "text/plain": [
       "              hour  platform_os          yes           no\n",
       "count  8077.000000  8077.000000  8077.000000  8077.000000\n",
       "mean     11.615080     5.947134     0.070818     0.083075\n",
       "std       5.734879     0.224333     0.256537     0.276013\n",
       "min       0.000000     5.000000     0.000000     0.000000\n",
       "25%       7.000000     6.000000     0.000000     0.000000\n",
       "50%      13.000000     6.000000     0.000000     0.000000\n",
       "75%      15.000000     6.000000     0.000000     0.000000\n",
       "max      23.000000     7.000000     1.000000     1.000000"
      ]
     },
     "execution_count": 15,
     "metadata": {},
     "output_type": "execute_result"
    }
   ],
   "source": [
    "df.describe()"
   ]
  },
  {
   "cell_type": "code",
   "execution_count": 16,
   "metadata": {},
   "outputs": [
    {
     "data": {
      "text/html": [
       "<div>\n",
       "<style scoped>\n",
       "    .dataframe tbody tr th:only-of-type {\n",
       "        vertical-align: middle;\n",
       "    }\n",
       "\n",
       "    .dataframe tbody tr th {\n",
       "        vertical-align: top;\n",
       "    }\n",
       "\n",
       "    .dataframe thead th {\n",
       "        text-align: right;\n",
       "    }\n",
       "</style>\n",
       "<table border=\"1\" class=\"dataframe\">\n",
       "  <thead>\n",
       "    <tr style=\"text-align: right;\">\n",
       "      <th></th>\n",
       "      <th>auction_id</th>\n",
       "      <th>experiment</th>\n",
       "      <th>date</th>\n",
       "      <th>device_make</th>\n",
       "      <th>browser</th>\n",
       "    </tr>\n",
       "  </thead>\n",
       "  <tbody>\n",
       "    <tr>\n",
       "      <th>count</th>\n",
       "      <td>8077</td>\n",
       "      <td>8077</td>\n",
       "      <td>8077</td>\n",
       "      <td>8077</td>\n",
       "      <td>8077</td>\n",
       "    </tr>\n",
       "    <tr>\n",
       "      <th>unique</th>\n",
       "      <td>8077</td>\n",
       "      <td>2</td>\n",
       "      <td>8</td>\n",
       "      <td>270</td>\n",
       "      <td>15</td>\n",
       "    </tr>\n",
       "    <tr>\n",
       "      <th>top</th>\n",
       "      <td>10fd079a-e407-467c-a8fd-aec7e53b74b9</td>\n",
       "      <td>control</td>\n",
       "      <td>2020-07-03</td>\n",
       "      <td>Generic Smartphone</td>\n",
       "      <td>Chrome Mobile</td>\n",
       "    </tr>\n",
       "    <tr>\n",
       "      <th>freq</th>\n",
       "      <td>1</td>\n",
       "      <td>4071</td>\n",
       "      <td>2015</td>\n",
       "      <td>4743</td>\n",
       "      <td>4554</td>\n",
       "    </tr>\n",
       "  </tbody>\n",
       "</table>\n",
       "</div>"
      ],
      "text/plain": [
       "                                  auction_id experiment        date  \\\n",
       "count                                   8077       8077        8077   \n",
       "unique                                  8077          2           8   \n",
       "top     10fd079a-e407-467c-a8fd-aec7e53b74b9    control  2020-07-03   \n",
       "freq                                       1       4071        2015   \n",
       "\n",
       "               device_make        browser  \n",
       "count                 8077           8077  \n",
       "unique                 270             15  \n",
       "top     Generic Smartphone  Chrome Mobile  \n",
       "freq                  4743           4554  "
      ]
     },
     "execution_count": 16,
     "metadata": {},
     "output_type": "execute_result"
    }
   ],
   "source": [
    "df.describe(include = 'O')"
   ]
  },
  {
   "cell_type": "code",
   "execution_count": 17,
   "metadata": {},
   "outputs": [
    {
     "data": {
      "text/plain": [
       "control    4071\n",
       "exposed    4006\n",
       "Name: experiment, dtype: int64"
      ]
     },
     "execution_count": 17,
     "metadata": {},
     "output_type": "execute_result"
    }
   ],
   "source": [
    "#Number of control  and exposed\n",
    "df.experiment.value_counts()"
   ]
  },
  {
   "cell_type": "code",
   "execution_count": 18,
   "metadata": {},
   "outputs": [
    {
     "data": {
      "text/html": [
       "<div>\n",
       "<style scoped>\n",
       "    .dataframe tbody tr th:only-of-type {\n",
       "        vertical-align: middle;\n",
       "    }\n",
       "\n",
       "    .dataframe tbody tr th {\n",
       "        vertical-align: top;\n",
       "    }\n",
       "\n",
       "    .dataframe thead th {\n",
       "        text-align: right;\n",
       "    }\n",
       "</style>\n",
       "<table border=\"1\" class=\"dataframe\">\n",
       "  <thead>\n",
       "    <tr style=\"text-align: right;\">\n",
       "      <th></th>\n",
       "      <th>auction_id</th>\n",
       "      <th>experiment</th>\n",
       "      <th>date</th>\n",
       "      <th>hour</th>\n",
       "      <th>device_make</th>\n",
       "      <th>platform_os</th>\n",
       "      <th>browser</th>\n",
       "      <th>yes</th>\n",
       "      <th>no</th>\n",
       "    </tr>\n",
       "  </thead>\n",
       "  <tbody>\n",
       "    <tr>\n",
       "      <th>0</th>\n",
       "      <td>0008ef63-77a7-448b-bd1e-075f42c55e39</td>\n",
       "      <td>exposed</td>\n",
       "      <td>2020-07-10</td>\n",
       "      <td>8</td>\n",
       "      <td>Generic Smartphone</td>\n",
       "      <td>6</td>\n",
       "      <td>Chrome Mobile</td>\n",
       "      <td>0</td>\n",
       "      <td>0</td>\n",
       "    </tr>\n",
       "    <tr>\n",
       "      <th>1</th>\n",
       "      <td>000eabc5-17ce-4137-8efe-44734d914446</td>\n",
       "      <td>exposed</td>\n",
       "      <td>2020-07-07</td>\n",
       "      <td>10</td>\n",
       "      <td>Generic Smartphone</td>\n",
       "      <td>6</td>\n",
       "      <td>Chrome Mobile</td>\n",
       "      <td>0</td>\n",
       "      <td>0</td>\n",
       "    </tr>\n",
       "    <tr>\n",
       "      <th>2</th>\n",
       "      <td>0016d14a-ae18-4a02-a204-6ba53b52f2ed</td>\n",
       "      <td>exposed</td>\n",
       "      <td>2020-07-05</td>\n",
       "      <td>2</td>\n",
       "      <td>E5823</td>\n",
       "      <td>6</td>\n",
       "      <td>Chrome Mobile WebView</td>\n",
       "      <td>0</td>\n",
       "      <td>1</td>\n",
       "    </tr>\n",
       "    <tr>\n",
       "      <th>3</th>\n",
       "      <td>00187412-2932-4542-a8ef-3633901c98d9</td>\n",
       "      <td>control</td>\n",
       "      <td>2020-07-03</td>\n",
       "      <td>15</td>\n",
       "      <td>Samsung SM-A705FN</td>\n",
       "      <td>6</td>\n",
       "      <td>Facebook</td>\n",
       "      <td>0</td>\n",
       "      <td>0</td>\n",
       "    </tr>\n",
       "    <tr>\n",
       "      <th>4</th>\n",
       "      <td>001a7785-d3fe-4e11-a344-c8735acacc2c</td>\n",
       "      <td>control</td>\n",
       "      <td>2020-07-03</td>\n",
       "      <td>15</td>\n",
       "      <td>Generic Smartphone</td>\n",
       "      <td>6</td>\n",
       "      <td>Chrome Mobile</td>\n",
       "      <td>0</td>\n",
       "      <td>0</td>\n",
       "    </tr>\n",
       "  </tbody>\n",
       "</table>\n",
       "</div>"
      ],
      "text/plain": [
       "                             auction_id experiment        date  hour  \\\n",
       "0  0008ef63-77a7-448b-bd1e-075f42c55e39    exposed  2020-07-10     8   \n",
       "1  000eabc5-17ce-4137-8efe-44734d914446    exposed  2020-07-07    10   \n",
       "2  0016d14a-ae18-4a02-a204-6ba53b52f2ed    exposed  2020-07-05     2   \n",
       "3  00187412-2932-4542-a8ef-3633901c98d9    control  2020-07-03    15   \n",
       "4  001a7785-d3fe-4e11-a344-c8735acacc2c    control  2020-07-03    15   \n",
       "\n",
       "          device_make  platform_os                browser  yes  no  \n",
       "0  Generic Smartphone            6          Chrome Mobile    0   0  \n",
       "1  Generic Smartphone            6          Chrome Mobile    0   0  \n",
       "2               E5823            6  Chrome Mobile WebView    0   1  \n",
       "3   Samsung SM-A705FN            6               Facebook    0   0  \n",
       "4  Generic Smartphone            6          Chrome Mobile    0   0  "
      ]
     },
     "execution_count": 18,
     "metadata": {},
     "output_type": "execute_result"
    }
   ],
   "source": [
    "df.head()"
   ]
  },
  {
   "cell_type": "code",
   "execution_count": 19,
   "metadata": {},
   "outputs": [
    {
     "data": {
      "text/plain": [
       "0    7505\n",
       "1     572\n",
       "Name: yes, dtype: int64"
      ]
     },
     "execution_count": 19,
     "metadata": {},
     "output_type": "execute_result"
    }
   ],
   "source": [
    "#count of yes\n",
    "df.yes.value_counts()"
   ]
  },
  {
   "cell_type": "code",
   "execution_count": 20,
   "metadata": {},
   "outputs": [
    {
     "data": {
      "text/plain": [
       "0    7406\n",
       "1     671\n",
       "Name: no, dtype: int64"
      ]
     },
     "execution_count": 20,
     "metadata": {},
     "output_type": "execute_result"
    }
   ],
   "source": [
    "#count of no\n",
    "df.no.value_counts()"
   ]
  },
  {
   "cell_type": "code",
   "execution_count": 21,
   "metadata": {},
   "outputs": [
    {
     "data": {
      "text/plain": [
       "0    6834\n",
       "1    1243\n",
       "Name: engaged, dtype: int64"
      ]
     },
     "execution_count": 21,
     "metadata": {},
     "output_type": "execute_result"
    }
   ],
   "source": [
    "#Customers that engaged with the questionnaire\n",
    "df['engaged'] = df.yes + df.no ; df.engaged.value_counts()"
   ]
  },
  {
   "cell_type": "code",
   "execution_count": 22,
   "metadata": {},
   "outputs": [
    {
     "data": {
      "text/plain": [
       "(586, 657)"
      ]
     },
     "execution_count": 22,
     "metadata": {},
     "output_type": "execute_result"
    }
   ],
   "source": [
    "#Number of customers in both groups that engaged\n",
    "df[df.experiment == 'control']['engaged'].sum() , df[df.experiment == 'exposed']['engaged'].sum()"
   ]
  },
  {
   "cell_type": "code",
   "execution_count": 23,
   "metadata": {},
   "outputs": [
    {
     "data": {
      "text/plain": [
       "Generic Smartphone    4743\n",
       "iPhone                 433\n",
       "Samsung SM-G960F       203\n",
       "Samsung SM-G973F       154\n",
       "Samsung SM-G950F       148\n",
       "                      ... \n",
       "Samsung GT-P5210         1\n",
       "Samsung SM-J610G         1\n",
       "RNE-L21                  1\n",
       "Samsung SM-G388F         1\n",
       "Samsung SM-G950U         1\n",
       "Name: device_make, Length: 270, dtype: int64"
      ]
     },
     "execution_count": 23,
     "metadata": {},
     "output_type": "execute_result"
    }
   ],
   "source": [
    "df.device_make.value_counts()"
   ]
  },
  {
   "cell_type": "code",
   "execution_count": 24,
   "metadata": {},
   "outputs": [
    {
     "data": {
      "text/plain": [
       "6    7648\n",
       "5     428\n",
       "7       1\n",
       "Name: platform_os, dtype: int64"
      ]
     },
     "execution_count": 24,
     "metadata": {},
     "output_type": "execute_result"
    }
   ],
   "source": [
    "df['platform_os'].value_counts()"
   ]
  },
  {
   "cell_type": "code",
   "execution_count": 25,
   "metadata": {},
   "outputs": [
    {
     "data": {
      "image/png": "[encoded data removed]",
      "text/plain": [
       "<Figure size 432x288 with 1 Axes>"
      ]
     },
     "metadata": {},
     "output_type": "display_data"
    }
   ],
   "source": [
    "sns.countplot(df.platform_os, hue = df.engaged);"
   ]
  },
  {
   "cell_type": "code",
   "execution_count": 26,
   "metadata": {},
   "outputs": [
    {
     "data": {
      "text/html": [
       "<div>\n",
       "<style scoped>\n",
       "    .dataframe tbody tr th:only-of-type {\n",
       "        vertical-align: middle;\n",
       "    }\n",
       "\n",
       "    .dataframe tbody tr th {\n",
       "        vertical-align: top;\n",
       "    }\n",
       "\n",
       "    .dataframe thead th {\n",
       "        text-align: right;\n",
       "    }\n",
       "</style>\n",
       "<table border=\"1\" class=\"dataframe\">\n",
       "  <thead>\n",
       "    <tr style=\"text-align: right;\">\n",
       "      <th>engaged</th>\n",
       "      <th>0</th>\n",
       "      <th>1</th>\n",
       "    </tr>\n",
       "    <tr>\n",
       "      <th>hour</th>\n",
       "      <th></th>\n",
       "      <th></th>\n",
       "    </tr>\n",
       "  </thead>\n",
       "  <tbody>\n",
       "    <tr>\n",
       "      <th>0</th>\n",
       "      <td>0.840206</td>\n",
       "      <td>0.159794</td>\n",
       "    </tr>\n",
       "    <tr>\n",
       "      <th>1</th>\n",
       "      <td>0.855856</td>\n",
       "      <td>0.144144</td>\n",
       "    </tr>\n",
       "    <tr>\n",
       "      <th>2</th>\n",
       "      <td>0.856522</td>\n",
       "      <td>0.143478</td>\n",
       "    </tr>\n",
       "    <tr>\n",
       "      <th>3</th>\n",
       "      <td>0.834586</td>\n",
       "      <td>0.165414</td>\n",
       "    </tr>\n",
       "    <tr>\n",
       "      <th>4</th>\n",
       "      <td>0.836299</td>\n",
       "      <td>0.163701</td>\n",
       "    </tr>\n",
       "    <tr>\n",
       "      <th>5</th>\n",
       "      <td>0.837748</td>\n",
       "      <td>0.162252</td>\n",
       "    </tr>\n",
       "    <tr>\n",
       "      <th>6</th>\n",
       "      <td>0.847095</td>\n",
       "      <td>0.152905</td>\n",
       "    </tr>\n",
       "    <tr>\n",
       "      <th>7</th>\n",
       "      <td>0.845144</td>\n",
       "      <td>0.154856</td>\n",
       "    </tr>\n",
       "    <tr>\n",
       "      <th>8</th>\n",
       "      <td>0.829949</td>\n",
       "      <td>0.170051</td>\n",
       "    </tr>\n",
       "    <tr>\n",
       "      <th>9</th>\n",
       "      <td>0.835260</td>\n",
       "      <td>0.164740</td>\n",
       "    </tr>\n",
       "    <tr>\n",
       "      <th>10</th>\n",
       "      <td>0.830357</td>\n",
       "      <td>0.169643</td>\n",
       "    </tr>\n",
       "    <tr>\n",
       "      <th>11</th>\n",
       "      <td>0.843972</td>\n",
       "      <td>0.156028</td>\n",
       "    </tr>\n",
       "    <tr>\n",
       "      <th>12</th>\n",
       "      <td>0.848921</td>\n",
       "      <td>0.151079</td>\n",
       "    </tr>\n",
       "    <tr>\n",
       "      <th>13</th>\n",
       "      <td>0.858621</td>\n",
       "      <td>0.141379</td>\n",
       "    </tr>\n",
       "    <tr>\n",
       "      <th>14</th>\n",
       "      <td>0.840125</td>\n",
       "      <td>0.159875</td>\n",
       "    </tr>\n",
       "    <tr>\n",
       "      <th>15</th>\n",
       "      <td>0.851715</td>\n",
       "      <td>0.148285</td>\n",
       "    </tr>\n",
       "    <tr>\n",
       "      <th>16</th>\n",
       "      <td>0.868657</td>\n",
       "      <td>0.131343</td>\n",
       "    </tr>\n",
       "    <tr>\n",
       "      <th>17</th>\n",
       "      <td>0.870722</td>\n",
       "      <td>0.129278</td>\n",
       "    </tr>\n",
       "    <tr>\n",
       "      <th>18</th>\n",
       "      <td>0.860806</td>\n",
       "      <td>0.139194</td>\n",
       "    </tr>\n",
       "    <tr>\n",
       "      <th>19</th>\n",
       "      <td>0.832599</td>\n",
       "      <td>0.167401</td>\n",
       "    </tr>\n",
       "    <tr>\n",
       "      <th>20</th>\n",
       "      <td>0.829545</td>\n",
       "      <td>0.170455</td>\n",
       "    </tr>\n",
       "    <tr>\n",
       "      <th>21</th>\n",
       "      <td>0.834951</td>\n",
       "      <td>0.165049</td>\n",
       "    </tr>\n",
       "    <tr>\n",
       "      <th>22</th>\n",
       "      <td>0.844444</td>\n",
       "      <td>0.155556</td>\n",
       "    </tr>\n",
       "    <tr>\n",
       "      <th>23</th>\n",
       "      <td>0.838710</td>\n",
       "      <td>0.161290</td>\n",
       "    </tr>\n",
       "  </tbody>\n",
       "</table>\n",
       "</div>"
      ],
      "text/plain": [
       "engaged         0         1\n",
       "hour                       \n",
       "0        0.840206  0.159794\n",
       "1        0.855856  0.144144\n",
       "2        0.856522  0.143478\n",
       "3        0.834586  0.165414\n",
       "4        0.836299  0.163701\n",
       "5        0.837748  0.162252\n",
       "6        0.847095  0.152905\n",
       "7        0.845144  0.154856\n",
       "8        0.829949  0.170051\n",
       "9        0.835260  0.164740\n",
       "10       0.830357  0.169643\n",
       "11       0.843972  0.156028\n",
       "12       0.848921  0.151079\n",
       "13       0.858621  0.141379\n",
       "14       0.840125  0.159875\n",
       "15       0.851715  0.148285\n",
       "16       0.868657  0.131343\n",
       "17       0.870722  0.129278\n",
       "18       0.860806  0.139194\n",
       "19       0.832599  0.167401\n",
       "20       0.829545  0.170455\n",
       "21       0.834951  0.165049\n",
       "22       0.844444  0.155556\n",
       "23       0.838710  0.161290"
      ]
     },
     "execution_count": 26,
     "metadata": {},
     "output_type": "execute_result"
    }
   ],
   "source": [
    "pd.crosstab(df.hour, df.engaged, normalize = 'index' )"
   ]
  },
  {
   "cell_type": "markdown",
   "metadata": {},
   "source": [
    "2000 hours has the ratio of users that engaged with the questionnaire"
   ]
  },
  {
   "cell_type": "code",
   "execution_count": 29,
   "metadata": {},
   "outputs": [
    {
     "data": {
      "image/png": "[encoded data removed]",
      "text/plain": [
       "<Figure size 720x576 with 1 Axes>"
      ]
     },
     "metadata": {},
     "output_type": "display_data"
    }
   ],
   "source": [
    "plt.figure(figsize  = (10,8))\n",
    "sns.countplot(df.hour, hue = df.engaged)\n",
    "plt.xticks(rotation = 45);"
   ]
  },
  {
   "cell_type": "markdown",
   "metadata": {},
   "source": [
    "1500 hours has the highest number of Impression"
   ]
  },
  {
   "cell_type": "markdown",
   "metadata": {},
   "source": [
    "Invariant metrics"
   ]
  },
  {
   "cell_type": "code",
   "execution_count": 30,
   "metadata": {},
   "outputs": [],
   "source": [
    "def compare_metrics(cols, df = df, experiment = None):\n",
    "    ''' Compare some invariant metrics between the groups '''\n",
    "    \n",
    "    if experiment:\n",
    "        print(f'metrics for {experiment} group')\n",
    "        df[df.experiment == experiment][cols].value_counts(normalize = True) #Get metric for a particular experiment\n",
    "    else:\n",
    "        print(f'metrics for control group')\n",
    "        print('-------------------------')\n",
    "        ex1 = df[df.experiment == 'control'][cols].value_counts(normalize = True) #Get ,=metric for control\n",
    "        print(ex1)\n",
    "        print(f'\\nmetrics for exposed group')\n",
    "        print('-------------------------')\n",
    "        ex2 = df[df.experiment == 'exposed'][cols].value_counts(normalize = True) #Get metric for exposed group\n",
    "        print(ex2)"
   ]
  },
  {
   "cell_type": "code",
   "execution_count": 19,
   "metadata": {},
   "outputs": [
    {
     "name": "stdout",
     "output_type": "stream",
     "text": [
      "metrics for control group\n",
      "-------------------------\n",
      "6    0.924343\n",
      "5    0.075657\n",
      "Name: platform_os, dtype: float64\n",
      "\n",
      "metrics for exposed group\n",
      "-------------------------\n",
      "6    0.969795\n",
      "5    0.029955\n",
      "7    0.000250\n",
      "Name: platform_os, dtype: float64\n"
     ]
    }
   ],
   "source": [
    "compare_metrics('platform_os')"
   ]
  },
  {
   "cell_type": "markdown",
   "metadata": {},
   "source": [
    "There is difference in the use of O between groups"
   ]
  },
  {
   "cell_type": "code",
   "execution_count": 20,
   "metadata": {},
   "outputs": [
    {
     "name": "stdout",
     "output_type": "stream",
     "text": [
      "metrics for control group\n",
      "-------------------------\n",
      "Chrome Mobile                 0.591992\n",
      "Facebook                      0.137804\n",
      "Samsung Internet              0.120855\n",
      "Chrome Mobile WebView         0.071727\n",
      "Mobile Safari                 0.060427\n",
      "Chrome Mobile iOS             0.008352\n",
      "Mobile Safari UI/WKWebView    0.007369\n",
      "Pinterest                     0.000491\n",
      "Chrome                        0.000246\n",
      "Opera Mini                    0.000246\n",
      "Android                       0.000246\n",
      "Puffin                        0.000246\n",
      "Name: browser, dtype: float64\n",
      "\n",
      "metrics for exposed group\n",
      "-------------------------\n",
      "Chrome Mobile                 0.535197\n",
      "Chrome Mobile WebView         0.298802\n",
      "Samsung Internet              0.082876\n",
      "Facebook                      0.050674\n",
      "Mobile Safari                 0.022716\n",
      "Chrome Mobile iOS             0.004244\n",
      "Mobile Safari UI/WKWebView    0.003495\n",
      "Opera Mobile                  0.000749\n",
      "Chrome                        0.000499\n",
      "Firefox Mobile                0.000250\n",
      "Edge Mobile                   0.000250\n",
      "Pinterest                     0.000250\n",
      "Name: browser, dtype: float64\n"
     ]
    }
   ],
   "source": [
    "compare_metrics('browser')"
   ]
  },
  {
   "cell_type": "markdown",
   "metadata": {},
   "source": [
    "There is difference in the use of browser between groups"
   ]
  },
  {
   "cell_type": "code",
   "execution_count": 21,
   "metadata": {},
   "outputs": [
    {
     "name": "stdout",
     "output_type": "stream",
     "text": [
      "metrics for control group\n",
      "-------------------------\n",
      "Generic Smartphone    0.592238\n",
      "iPhone                0.076394\n",
      "Samsung SM-G960F      0.025547\n",
      "Samsung SM-G973F      0.023581\n",
      "Samsung SM-G950F      0.016212\n",
      "                        ...   \n",
      "Samsung SM-A908B      0.000246\n",
      "Samsung SM-G903F      0.000246\n",
      "Samsung SM-G930T      0.000246\n",
      "K7                    0.000246\n",
      "Samsung SM-J701F      0.000246\n",
      "Name: device_make, Length: 169, dtype: float64\n",
      "\n",
      "metrics for exposed group\n",
      "-------------------------\n",
      "Generic Smartphone         0.582127\n",
      "iPhone                     0.030454\n",
      "Samsung SM-G960F           0.024713\n",
      "Samsung SM-G950F           0.020469\n",
      "Samsung SM-G973F           0.014478\n",
      "                             ...   \n",
      "XiaoMi Redmi 6             0.000250\n",
      "EVA-L09                    0.000250\n",
      "Samsung SM-A207F           0.000250\n",
      "XiaoMi Redmi Note 6 Pro    0.000250\n",
      "HTC M10h                   0.000250\n",
      "Name: device_make, Length: 218, dtype: float64\n"
     ]
    }
   ],
   "source": [
    "compare_metrics('device_make')"
   ]
  },
  {
   "cell_type": "markdown",
   "metadata": {},
   "source": [
    "There is a slight difference in device use between groups"
   ]
  },
  {
   "cell_type": "code",
   "execution_count": 22,
   "metadata": {},
   "outputs": [
    {
     "name": "stdout",
     "output_type": "stream",
     "text": [
      "metrics for control group\n",
      "-------------------------\n",
      "0    0.935151\n",
      "1    0.064849\n",
      "Name: yes, dtype: float64\n",
      "\n",
      "metrics for exposed group\n",
      "-------------------------\n",
      "0    0.923115\n",
      "1    0.076885\n",
      "Name: yes, dtype: float64\n"
     ]
    }
   ],
   "source": [
    "compare_metrics('yes')"
   ]
  },
  {
   "cell_type": "markdown",
   "metadata": {},
   "source": [
    "There is a slight difference in the choosing of yes between the two groups"
   ]
  },
  {
   "cell_type": "code",
   "execution_count": 23,
   "metadata": {},
   "outputs": [
    {
     "name": "stdout",
     "output_type": "stream",
     "text": [
      "metrics for control group\n",
      "-------------------------\n",
      "0    0.920904\n",
      "1    0.079096\n",
      "Name: no, dtype: float64\n",
      "\n",
      "metrics for exposed group\n",
      "-------------------------\n",
      "0    0.912881\n",
      "1    0.087119\n",
      "Name: no, dtype: float64\n"
     ]
    }
   ],
   "source": [
    "compare_metrics('no')"
   ]
  },
  {
   "cell_type": "markdown",
   "metadata": {},
   "source": [
    "There is a slight difference in the choosing of yes between the two groups"
   ]
  },
  {
   "cell_type": "code",
   "execution_count": 24,
   "metadata": {},
   "outputs": [
    {
     "name": "stdout",
     "output_type": "stream",
     "text": [
      "metrics for control group\n",
      "-------------------------\n",
      "0    0.856055\n",
      "1    0.143945\n",
      "Name: engaged, dtype: float64\n",
      "\n",
      "metrics for exposed group\n",
      "-------------------------\n",
      "0    0.835996\n",
      "1    0.164004\n",
      "Name: engaged, dtype: float64\n"
     ]
    }
   ],
   "source": [
    "compare_metrics('engaged')"
   ]
  },
  {
   "cell_type": "markdown",
   "metadata": {},
   "source": [
    "rate of engagement is higher in the control group"
   ]
  },
  {
   "cell_type": "markdown",
   "metadata": {},
   "source": [
    "Number of customers in the control group that engaged by answer to questioonaire (1-yes, 0-no)|"
   ]
  },
  {
   "cell_type": "code",
   "execution_count": 34,
   "metadata": {},
   "outputs": [
    {
     "data": {
      "text/plain": [
       "0    322\n",
       "1    264\n",
       "Name: yes, dtype: int64"
      ]
     },
     "execution_count": 34,
     "metadata": {},
     "output_type": "execute_result"
    }
   ],
   "source": [
    "df[(df.experiment == 'control') & (df.engaged == 1)]['yes'].value_counts()"
   ]
  },
  {
   "cell_type": "markdown",
   "metadata": {},
   "source": [
    "Number of customers in the exposed group that engaged by answer to questioonaire (1-yes, 0-no)|"
   ]
  },
  {
   "cell_type": "code",
   "execution_count": 35,
   "metadata": {},
   "outputs": [
    {
     "data": {
      "text/plain": [
       "0    349\n",
       "1    308\n",
       "Name: yes, dtype: int64"
      ]
     },
     "execution_count": 35,
     "metadata": {},
     "output_type": "execute_result"
    }
   ],
   "source": [
    "df[(df.experiment == 'exposed')& (df.engaged == 1)]['yes'].value_counts()"
   ]
  },
  {
   "cell_type": "code",
   "execution_count": null,
   "metadata": {},
   "outputs": [],
   "source": []
  },
  {
   "cell_type": "markdown",
   "metadata": {},
   "source": [
    "Classical A/B test"
   ]
  },
  {
   "cell_type": "markdown",
   "metadata": {},
   "source": [
    "> The task is to determine whether a recent advertising campaign resulted in a significant lift in brand awareness.\n",
    "Hypothesis:\n",
    "\n",
    "H0: There is a significant lift in awareness due to the recent campaign\n",
    "\n",
    "H1: There is no significant lift in awareness (not H0)"
   ]
  },
  {
   "cell_type": "markdown",
   "metadata": {},
   "source": [
    "we'll consider only customers with engagement(i.e answered the question in the questionnaire)"
   ]
  },
  {
   "cell_type": "code",
   "execution_count": 34,
   "metadata": {},
   "outputs": [],
   "source": [
    "engaged = df[df.engaged == 1].reset_index(drop = True)"
   ]
  },
  {
   "cell_type": "markdown",
   "metadata": {},
   "source": [
    "We'll Use the yes column - where 1 signifies that the user answered yes and 0 signifies that the user answered no"
   ]
  },
  {
   "cell_type": "code",
   "execution_count": 35,
   "metadata": {},
   "outputs": [
    {
     "data": {
      "text/html": [
       "<div>\n",
       "<style scoped>\n",
       "    .dataframe tbody tr th:only-of-type {\n",
       "        vertical-align: middle;\n",
       "    }\n",
       "\n",
       "    .dataframe tbody tr th {\n",
       "        vertical-align: top;\n",
       "    }\n",
       "\n",
       "    .dataframe thead th {\n",
       "        text-align: right;\n",
       "    }\n",
       "</style>\n",
       "<table border=\"1\" class=\"dataframe\">\n",
       "  <thead>\n",
       "    <tr style=\"text-align: right;\">\n",
       "      <th></th>\n",
       "      <th>auction_id</th>\n",
       "      <th>experiment</th>\n",
       "      <th>date</th>\n",
       "      <th>hour</th>\n",
       "      <th>device_make</th>\n",
       "      <th>platform_os</th>\n",
       "      <th>browser</th>\n",
       "      <th>yes</th>\n",
       "      <th>no</th>\n",
       "      <th>engaged</th>\n",
       "    </tr>\n",
       "  </thead>\n",
       "  <tbody>\n",
       "    <tr>\n",
       "      <th>0</th>\n",
       "      <td>0016d14a-ae18-4a02-a204-6ba53b52f2ed</td>\n",
       "      <td>exposed</td>\n",
       "      <td>2020-07-05</td>\n",
       "      <td>2</td>\n",
       "      <td>E5823</td>\n",
       "      <td>6</td>\n",
       "      <td>Chrome Mobile WebView</td>\n",
       "      <td>0</td>\n",
       "      <td>1</td>\n",
       "      <td>1</td>\n",
       "    </tr>\n",
       "    <tr>\n",
       "      <th>1</th>\n",
       "      <td>008aafdf-deef-4482-8fec-d98e3da054da</td>\n",
       "      <td>exposed</td>\n",
       "      <td>2020-07-04</td>\n",
       "      <td>16</td>\n",
       "      <td>Generic Smartphone</td>\n",
       "      <td>6</td>\n",
       "      <td>Chrome Mobile</td>\n",
       "      <td>1</td>\n",
       "      <td>0</td>\n",
       "      <td>1</td>\n",
       "    </tr>\n",
       "    <tr>\n",
       "      <th>2</th>\n",
       "      <td>00a1384a-5118-4d1b-925b-6cdada50318d</td>\n",
       "      <td>exposed</td>\n",
       "      <td>2020-07-06</td>\n",
       "      <td>8</td>\n",
       "      <td>Generic Smartphone</td>\n",
       "      <td>6</td>\n",
       "      <td>Chrome Mobile</td>\n",
       "      <td>0</td>\n",
       "      <td>1</td>\n",
       "      <td>1</td>\n",
       "    </tr>\n",
       "    <tr>\n",
       "      <th>3</th>\n",
       "      <td>00b6fadb-10bd-49e3-a778-290da82f7a8d</td>\n",
       "      <td>control</td>\n",
       "      <td>2020-07-08</td>\n",
       "      <td>4</td>\n",
       "      <td>Samsung SM-A202F</td>\n",
       "      <td>6</td>\n",
       "      <td>Facebook</td>\n",
       "      <td>1</td>\n",
       "      <td>0</td>\n",
       "      <td>1</td>\n",
       "    </tr>\n",
       "    <tr>\n",
       "      <th>4</th>\n",
       "      <td>00ebf4a8-060f-4b99-93ac-c62724399483</td>\n",
       "      <td>control</td>\n",
       "      <td>2020-07-03</td>\n",
       "      <td>15</td>\n",
       "      <td>Generic Smartphone</td>\n",
       "      <td>6</td>\n",
       "      <td>Chrome Mobile</td>\n",
       "      <td>0</td>\n",
       "      <td>1</td>\n",
       "      <td>1</td>\n",
       "    </tr>\n",
       "  </tbody>\n",
       "</table>\n",
       "</div>"
      ],
      "text/plain": [
       "                             auction_id experiment        date  hour  \\\n",
       "0  0016d14a-ae18-4a02-a204-6ba53b52f2ed    exposed  2020-07-05     2   \n",
       "1  008aafdf-deef-4482-8fec-d98e3da054da    exposed  2020-07-04    16   \n",
       "2  00a1384a-5118-4d1b-925b-6cdada50318d    exposed  2020-07-06     8   \n",
       "3  00b6fadb-10bd-49e3-a778-290da82f7a8d    control  2020-07-08     4   \n",
       "4  00ebf4a8-060f-4b99-93ac-c62724399483    control  2020-07-03    15   \n",
       "\n",
       "          device_make  platform_os                browser  yes  no  engaged  \n",
       "0               E5823            6  Chrome Mobile WebView    0   1        1  \n",
       "1  Generic Smartphone            6          Chrome Mobile    1   0        1  \n",
       "2  Generic Smartphone            6          Chrome Mobile    0   1        1  \n",
       "3    Samsung SM-A202F            6               Facebook    1   0        1  \n",
       "4  Generic Smartphone            6          Chrome Mobile    0   1        1  "
      ]
     },
     "execution_count": 35,
     "metadata": {},
     "output_type": "execute_result"
    }
   ],
   "source": [
    "engaged.head()"
   ]
  },
  {
   "cell_type": "markdown",
   "metadata": {},
   "source": [
    "Using the yes column as the target column (1-yes, 0-no)"
   ]
  },
  {
   "cell_type": "code",
   "execution_count": 76,
   "metadata": {},
   "outputs": [],
   "source": [
    "control_group = engaged[engaged.experiment == 'control']['yes']\n",
    "exposed_group = engaged[engaged.experiment == 'exposed']['yes']"
   ]
  },
  {
   "cell_type": "code",
   "execution_count": null,
   "metadata": {},
   "outputs": [],
   "source": []
  },
  {
   "cell_type": "markdown",
   "metadata": {},
   "source": [
    "Distribution of the data"
   ]
  },
  {
   "cell_type": "code",
   "execution_count": 77,
   "metadata": {},
   "outputs": [
    {
     "data": {
      "text/plain": [
       "0    0.549488\n",
       "1    0.450512\n",
       "Name: yes, dtype: float64"
      ]
     },
     "execution_count": 77,
     "metadata": {},
     "output_type": "execute_result"
    }
   ],
   "source": [
    "control_group.value_counts(normalize = True)"
   ]
  },
  {
   "cell_type": "code",
   "execution_count": 78,
   "metadata": {},
   "outputs": [
    {
     "data": {
      "text/plain": [
       "0    0.531202\n",
       "1    0.468798\n",
       "Name: yes, dtype: float64"
      ]
     },
     "execution_count": 78,
     "metadata": {},
     "output_type": "execute_result"
    }
   ],
   "source": [
    "exposed_group.value_counts(normalize = True)"
   ]
  },
  {
   "cell_type": "code",
   "execution_count": null,
   "metadata": {},
   "outputs": [],
   "source": []
  },
  {
   "cell_type": "code",
   "execution_count": 79,
   "metadata": {},
   "outputs": [
    {
     "data": {
      "text/plain": [
       "(0.45051194539249145, 0.4687975646879756)"
      ]
     },
     "execution_count": 79,
     "metadata": {},
     "output_type": "execute_result"
    }
   ],
   "source": [
    "control_group.mean(), exposed_group.mean() "
   ]
  },
  {
   "cell_type": "code",
   "execution_count": 80,
   "metadata": {},
   "outputs": [
    {
     "data": {
      "text/plain": [
       "(0.49796997543854177, 0.49940566822721727)"
      ]
     },
     "execution_count": 80,
     "metadata": {},
     "output_type": "execute_result"
    }
   ],
   "source": [
    "control_group.std(), exposed_group.std()"
   ]
  },
  {
   "cell_type": "code",
   "execution_count": 81,
   "metadata": {},
   "outputs": [
    {
     "data": {
      "text/plain": [
       "0    322\n",
       "1    264\n",
       "Name: yes, dtype: int64"
      ]
     },
     "execution_count": 81,
     "metadata": {},
     "output_type": "execute_result"
    }
   ],
   "source": [
    "control_group.value_counts()"
   ]
  },
  {
   "cell_type": "code",
   "execution_count": 82,
   "metadata": {},
   "outputs": [
    {
     "data": {
      "text/plain": [
       "(-0.6452687398426953, 0.7406234765948244)"
      ]
     },
     "execution_count": 82,
     "metadata": {},
     "output_type": "execute_result"
    }
   ],
   "source": [
    "sm.stats.ztest(control_group, exposed_group, alternative= 'larger')"
   ]
  },
  {
   "cell_type": "markdown",
   "metadata": {},
   "source": [
    "since the p value (0.74) is greater than the alpha (at 0.05) we thereby do not reject the null hypothesis and conclude that there is no significant lift in brand awareness even after the campaign."
   ]
  },
  {
   "cell_type": "code",
   "execution_count": 94,
   "metadata": {},
   "outputs": [
    {
     "data": {
      "image/png": "[encoded data removed]",
      "text/plain": [
       "<Figure size 720x576 with 1 Axes>"
      ]
     },
     "metadata": {},
     "output_type": "display_data"
    }
   ],
   "source": [
    "plt.figure(figsize = (10,8))\n",
    "sns.distplot(control_group)\n",
    "sns.distplot(exposed_group);"
   ]
  },
  {
   "cell_type": "markdown",
   "metadata": {},
   "source": [
    "convert to Binomial"
   ]
  },
  {
   "cell_type": "code",
   "execution_count": 83,
   "metadata": {},
   "outputs": [],
   "source": [
    "from scipy import stats"
   ]
  },
  {
   "cell_type": "code",
   "execution_count": 84,
   "metadata": {},
   "outputs": [
    {
     "data": {
      "text/plain": [
       "Text(0, 0.5, 'probability')"
      ]
     },
     "execution_count": 84,
     "metadata": {},
     "output_type": "execute_result"
    },
    {
     "data": {
      "image/png": "[encoded data removed]",
      "text/plain": [
       "<Figure size 864x432 with 1 Axes>"
      ]
     },
     "metadata": {},
     "output_type": "display_data"
    }
   ],
   "source": [
    "fig, ax = plt.subplots(figsize=(12,6))\n",
    "x = np.linspace(264-49, 264+50, 100)\n",
    "y = stats.binom(586, 0.45).pmf(x)\n",
    "ax.bar(x, y, alpha=0.5)\n",
    "ax.axvline(x=0.48 * 586, c='red', alpha=0.75, linestyle='--')\n",
    "plt.xlabel('converted')\n",
    "plt.ylabel('probability')"
   ]
  },
  {
   "cell_type": "code",
   "execution_count": 86,
   "metadata": {},
   "outputs": [
    {
     "data": {
      "text/plain": [
       "Text(0, 0.5, 'probability')"
      ]
     },
     "execution_count": 86,
     "metadata": {},
     "output_type": "execute_result"
    },
    {
     "data": {
      "image/png": "[encoded data removed]",
      "text/plain": [
       "<Figure size 864x432 with 1 Axes>"
      ]
     },
     "metadata": {},
     "output_type": "display_data"
    }
   ],
   "source": [
    "fig, ax = plt.subplots(figsize=(12,6))\n",
    "xA = np.linspace(264-49, 264+50, 100)\n",
    "yA = stats.binom(586, 0.45).pmf(x)\n",
    "ax.bar(xA, yA, alpha=0.5)\n",
    "xB = np.linspace(308-49, 308+50, 100)\n",
    "yB = stats.binom(657, 0.47).pmf(xB)\n",
    "ax.bar(xB, yB, alpha=0.5)\n",
    "plt.xlabel('converted')\n",
    "plt.ylabel('probability')"
   ]
  },
  {
   "cell_type": "code",
   "execution_count": null,
   "metadata": {},
   "outputs": [],
   "source": []
  },
  {
   "cell_type": "markdown",
   "metadata": {},
   "source": [
    "# Machine learning"
   ]
  },
  {
   "cell_type": "code",
   "execution_count": 39,
   "metadata": {},
   "outputs": [
    {
     "data": {
      "text/plain": [
       "CUBOT_X18_Plus      1\n",
       "XiaoMi Redmi 8      1\n",
       "Samsung SM-A908B    1\n",
       "Samsung SM-G955U    1\n",
       "Swift 2 Plus        1\n",
       "Samsung SM-N976V    1\n",
       "VFD 710             1\n",
       "5099Y               1\n",
       "Samsung SM-A415F    1\n",
       "X13                 1\n",
       "Samsung SM-G9730    1\n",
       "Samsung SM-A605F    1\n",
       "Samsung SM-N920I    1\n",
       "CPH1851             1\n",
       "FRD-L09             1\n",
       "Lenovo P2a42        1\n",
       "VKY-L09             1\n",
       "Samsung SM-G925I    1\n",
       "Samsung SM-G930L    1\n",
       "moto e5 plus        1\n",
       "Name: device_make, dtype: int64"
      ]
     },
     "execution_count": 39,
     "metadata": {},
     "output_type": "execute_result"
    }
   ],
   "source": [
    "df.device_make.value_counts()[-20:]"
   ]
  },
  {
   "cell_type": "code",
   "execution_count": 40,
   "metadata": {},
   "outputs": [
    {
     "data": {
      "text/plain": [
       "Generic Smartphone       4743\n",
       "iPhone                    433\n",
       "LG-$2                      43\n",
       "POT-LX1                    40\n",
       "CLT-L09                    26\n",
       "VOG-L09                    23\n",
       "MAR-LX1A                   21\n",
       "Moto $2                    19\n",
       "ANE-LX1                    18\n",
       "I3312                      18\n",
       "FIG-LX1                    18\n",
       "LYA-L09                    17\n",
       "OnePlus ONEPLUS A5010      15\n",
       "OnePlus ONEPLUS A6013      14\n",
       "PRA-LX1                    14\n",
       "MRD-LX1                    12\n",
       "VOG-L29                    12\n",
       "OnePlus ONEPLUS A6003      11\n",
       "CLT-L29                     9\n",
       "ELE-L09                     9\n",
       "Name: device_make, dtype: int64"
      ]
     },
     "execution_count": 40,
     "metadata": {},
     "output_type": "execute_result"
    }
   ],
   "source": [
    "df.device_make[df.device_make.str.contains('Samsung') | df.device_make.str.contains('Nokia')  \\\n",
    "               | df.device_make.str.contains('Pixel') == False].value_counts()[:20]"
   ]
  },
  {
   "cell_type": "markdown",
   "metadata": {},
   "source": [
    "Consider only device with more than 30 occurence"
   ]
  },
  {
   "cell_type": "code",
   "execution_count": 111,
   "metadata": {},
   "outputs": [],
   "source": [
    "df['device'] = df.device_make.apply(lambda x: 'iPhone' if x.startswith('iPhone') else 'Samsung' if x.startswith('Samsung') else \\\n",
    "                                   'Nokia' if x.startswith('Nokia') else 'OnePlus' if x.startswith('OnePlus') else 'LG' if x.startswith('LG') \\\n",
    "                                   else 'Pixel' if x.startswith('Pixel') else 'LX1' if x.startswith('POT') else 'others')"
   ]
  },
  {
   "cell_type": "code",
   "execution_count": 112,
   "metadata": {},
   "outputs": [],
   "source": [
    "engaged['device'] = engaged.device_make.apply(lambda x: 'iPhone' if x.startswith('iPhone') else 'Samsung' if x.startswith('Samsung') else \\\n",
    "                                   'Nokia' if x.startswith('Nokia') else 'OnePlus' if x.startswith('OnePlus') else 'LG' if x.startswith('LG') \\\n",
    "                                   else 'Pixel' if x.startswith('Pixel') else 'LX1' if x.startswith('POT') else 'others')"
   ]
  },
  {
   "cell_type": "markdown",
   "metadata": {},
   "source": [
    "Extract Day of week from DataFrame"
   ]
  },
  {
   "cell_type": "code",
   "execution_count": 113,
   "metadata": {},
   "outputs": [],
   "source": [
    "df.date = pd.to_datetime(df.date)\n",
    "df['dow'] = df.date.apply(lambda x: x.dayofweek)"
   ]
  },
  {
   "cell_type": "code",
   "execution_count": 114,
   "metadata": {},
   "outputs": [],
   "source": [
    "engaged.date = pd.to_datetime(engaged.date)\n",
    "engaged['dow'] = engaged.date.apply(lambda x: x.dayofweek)"
   ]
  },
  {
   "cell_type": "code",
   "execution_count": 115,
   "metadata": {},
   "outputs": [
    {
     "data": {
      "text/html": [
       "<div>\n",
       "<style scoped>\n",
       "    .dataframe tbody tr th:only-of-type {\n",
       "        vertical-align: middle;\n",
       "    }\n",
       "\n",
       "    .dataframe tbody tr th {\n",
       "        vertical-align: top;\n",
       "    }\n",
       "\n",
       "    .dataframe thead th {\n",
       "        text-align: right;\n",
       "    }\n",
       "</style>\n",
       "<table border=\"1\" class=\"dataframe\">\n",
       "  <thead>\n",
       "    <tr style=\"text-align: right;\">\n",
       "      <th></th>\n",
       "      <th>auction_id</th>\n",
       "      <th>experiment</th>\n",
       "      <th>date</th>\n",
       "      <th>hour</th>\n",
       "      <th>device_make</th>\n",
       "      <th>platform_os</th>\n",
       "      <th>browser</th>\n",
       "      <th>yes</th>\n",
       "      <th>no</th>\n",
       "      <th>engaged</th>\n",
       "      <th>device</th>\n",
       "      <th>dow</th>\n",
       "    </tr>\n",
       "  </thead>\n",
       "  <tbody>\n",
       "    <tr>\n",
       "      <th>0</th>\n",
       "      <td>0008ef63-77a7-448b-bd1e-075f42c55e39</td>\n",
       "      <td>exposed</td>\n",
       "      <td>2020-07-10</td>\n",
       "      <td>8</td>\n",
       "      <td>Generic Smartphone</td>\n",
       "      <td>6</td>\n",
       "      <td>Chrome Mobile</td>\n",
       "      <td>0</td>\n",
       "      <td>0</td>\n",
       "      <td>0</td>\n",
       "      <td>others</td>\n",
       "      <td>4</td>\n",
       "    </tr>\n",
       "    <tr>\n",
       "      <th>1</th>\n",
       "      <td>000eabc5-17ce-4137-8efe-44734d914446</td>\n",
       "      <td>exposed</td>\n",
       "      <td>2020-07-07</td>\n",
       "      <td>10</td>\n",
       "      <td>Generic Smartphone</td>\n",
       "      <td>6</td>\n",
       "      <td>Chrome Mobile</td>\n",
       "      <td>0</td>\n",
       "      <td>0</td>\n",
       "      <td>0</td>\n",
       "      <td>others</td>\n",
       "      <td>1</td>\n",
       "    </tr>\n",
       "    <tr>\n",
       "      <th>2</th>\n",
       "      <td>0016d14a-ae18-4a02-a204-6ba53b52f2ed</td>\n",
       "      <td>exposed</td>\n",
       "      <td>2020-07-05</td>\n",
       "      <td>2</td>\n",
       "      <td>E5823</td>\n",
       "      <td>6</td>\n",
       "      <td>Chrome Mobile WebView</td>\n",
       "      <td>0</td>\n",
       "      <td>1</td>\n",
       "      <td>1</td>\n",
       "      <td>others</td>\n",
       "      <td>6</td>\n",
       "    </tr>\n",
       "    <tr>\n",
       "      <th>3</th>\n",
       "      <td>00187412-2932-4542-a8ef-3633901c98d9</td>\n",
       "      <td>control</td>\n",
       "      <td>2020-07-03</td>\n",
       "      <td>15</td>\n",
       "      <td>Samsung SM-A705FN</td>\n",
       "      <td>6</td>\n",
       "      <td>Facebook</td>\n",
       "      <td>0</td>\n",
       "      <td>0</td>\n",
       "      <td>0</td>\n",
       "      <td>Samsung</td>\n",
       "      <td>4</td>\n",
       "    </tr>\n",
       "    <tr>\n",
       "      <th>4</th>\n",
       "      <td>001a7785-d3fe-4e11-a344-c8735acacc2c</td>\n",
       "      <td>control</td>\n",
       "      <td>2020-07-03</td>\n",
       "      <td>15</td>\n",
       "      <td>Generic Smartphone</td>\n",
       "      <td>6</td>\n",
       "      <td>Chrome Mobile</td>\n",
       "      <td>0</td>\n",
       "      <td>0</td>\n",
       "      <td>0</td>\n",
       "      <td>others</td>\n",
       "      <td>4</td>\n",
       "    </tr>\n",
       "  </tbody>\n",
       "</table>\n",
       "</div>"
      ],
      "text/plain": [
       "                             auction_id experiment       date  hour  \\\n",
       "0  0008ef63-77a7-448b-bd1e-075f42c55e39    exposed 2020-07-10     8   \n",
       "1  000eabc5-17ce-4137-8efe-44734d914446    exposed 2020-07-07    10   \n",
       "2  0016d14a-ae18-4a02-a204-6ba53b52f2ed    exposed 2020-07-05     2   \n",
       "3  00187412-2932-4542-a8ef-3633901c98d9    control 2020-07-03    15   \n",
       "4  001a7785-d3fe-4e11-a344-c8735acacc2c    control 2020-07-03    15   \n",
       "\n",
       "          device_make  platform_os                browser  yes  no  engaged  \\\n",
       "0  Generic Smartphone            6          Chrome Mobile    0   0        0   \n",
       "1  Generic Smartphone            6          Chrome Mobile    0   0        0   \n",
       "2               E5823            6  Chrome Mobile WebView    0   1        1   \n",
       "3   Samsung SM-A705FN            6               Facebook    0   0        0   \n",
       "4  Generic Smartphone            6          Chrome Mobile    0   0        0   \n",
       "\n",
       "    device  dow  \n",
       "0   others    4  \n",
       "1   others    1  \n",
       "2   others    6  \n",
       "3  Samsung    4  \n",
       "4   others    4  "
      ]
     },
     "execution_count": 115,
     "metadata": {},
     "output_type": "execute_result"
    }
   ],
   "source": [
    "df.head()"
   ]
  },
  {
   "cell_type": "markdown",
   "metadata": {},
   "source": [
    "Problem formulation"
   ]
  },
  {
   "cell_type": "markdown",
   "metadata": {},
   "source": [
    "> Building machine models to predict the response of a user. 1-yes, 0-no"
   ]
  },
  {
   "cell_type": "code",
   "execution_count": 121,
   "metadata": {},
   "outputs": [],
   "source": [
    "#import libraries\n",
    "from catboost import CatBoostClassifier\n",
    "from sklearn.tree import DecisionTreeClassifier\n",
    "from sklearn.linear_model import LogisticRegression\n",
    "from sklearn.preprocessing import QuantileTransformer, StandardScaler, PowerTransformer, PolynomialFeatures\n",
    "from xgboost import XGBClassifier,DMatrix, train, cv\n",
    "from sklearn.model_selection import train_test_split, StratifiedKFold, GridSearchCV\n",
    "from category_encoders.polynomial import PolynomialEncoder\n",
    "from category_encoders.target_encoder import TargetEncoder\n",
    "from sklearn.metrics import log_loss, accuracy_score, f1_score, roc_auc_score"
   ]
  },
  {
   "cell_type": "code",
   "execution_count": null,
   "metadata": {},
   "outputs": [],
   "source": []
  },
  {
   "cell_type": "code",
   "execution_count": 123,
   "metadata": {},
   "outputs": [
    {
     "data": {
      "text/html": [
       "<div>\n",
       "<style scoped>\n",
       "    .dataframe tbody tr th:only-of-type {\n",
       "        vertical-align: middle;\n",
       "    }\n",
       "\n",
       "    .dataframe tbody tr th {\n",
       "        vertical-align: top;\n",
       "    }\n",
       "\n",
       "    .dataframe thead th {\n",
       "        text-align: right;\n",
       "    }\n",
       "</style>\n",
       "<table border=\"1\" class=\"dataframe\">\n",
       "  <thead>\n",
       "    <tr style=\"text-align: right;\">\n",
       "      <th></th>\n",
       "      <th>auction_id</th>\n",
       "      <th>experiment</th>\n",
       "      <th>date</th>\n",
       "      <th>hour</th>\n",
       "      <th>device_make</th>\n",
       "      <th>platform_os</th>\n",
       "      <th>browser</th>\n",
       "      <th>yes</th>\n",
       "      <th>no</th>\n",
       "      <th>engaged</th>\n",
       "      <th>device</th>\n",
       "      <th>dow</th>\n",
       "    </tr>\n",
       "  </thead>\n",
       "  <tbody>\n",
       "    <tr>\n",
       "      <th>0</th>\n",
       "      <td>0016d14a-ae18-4a02-a204-6ba53b52f2ed</td>\n",
       "      <td>exposed</td>\n",
       "      <td>2020-07-05</td>\n",
       "      <td>2</td>\n",
       "      <td>E5823</td>\n",
       "      <td>6</td>\n",
       "      <td>Chrome Mobile WebView</td>\n",
       "      <td>0</td>\n",
       "      <td>1</td>\n",
       "      <td>1</td>\n",
       "      <td>others</td>\n",
       "      <td>6</td>\n",
       "    </tr>\n",
       "    <tr>\n",
       "      <th>1</th>\n",
       "      <td>008aafdf-deef-4482-8fec-d98e3da054da</td>\n",
       "      <td>exposed</td>\n",
       "      <td>2020-07-04</td>\n",
       "      <td>16</td>\n",
       "      <td>Generic Smartphone</td>\n",
       "      <td>6</td>\n",
       "      <td>Chrome Mobile</td>\n",
       "      <td>1</td>\n",
       "      <td>0</td>\n",
       "      <td>1</td>\n",
       "      <td>others</td>\n",
       "      <td>5</td>\n",
       "    </tr>\n",
       "    <tr>\n",
       "      <th>2</th>\n",
       "      <td>00a1384a-5118-4d1b-925b-6cdada50318d</td>\n",
       "      <td>exposed</td>\n",
       "      <td>2020-07-06</td>\n",
       "      <td>8</td>\n",
       "      <td>Generic Smartphone</td>\n",
       "      <td>6</td>\n",
       "      <td>Chrome Mobile</td>\n",
       "      <td>0</td>\n",
       "      <td>1</td>\n",
       "      <td>1</td>\n",
       "      <td>others</td>\n",
       "      <td>0</td>\n",
       "    </tr>\n",
       "    <tr>\n",
       "      <th>3</th>\n",
       "      <td>00b6fadb-10bd-49e3-a778-290da82f7a8d</td>\n",
       "      <td>control</td>\n",
       "      <td>2020-07-08</td>\n",
       "      <td>4</td>\n",
       "      <td>Samsung SM-A202F</td>\n",
       "      <td>6</td>\n",
       "      <td>Facebook</td>\n",
       "      <td>1</td>\n",
       "      <td>0</td>\n",
       "      <td>1</td>\n",
       "      <td>Samsung</td>\n",
       "      <td>2</td>\n",
       "    </tr>\n",
       "    <tr>\n",
       "      <th>4</th>\n",
       "      <td>00ebf4a8-060f-4b99-93ac-c62724399483</td>\n",
       "      <td>control</td>\n",
       "      <td>2020-07-03</td>\n",
       "      <td>15</td>\n",
       "      <td>Generic Smartphone</td>\n",
       "      <td>6</td>\n",
       "      <td>Chrome Mobile</td>\n",
       "      <td>0</td>\n",
       "      <td>1</td>\n",
       "      <td>1</td>\n",
       "      <td>others</td>\n",
       "      <td>4</td>\n",
       "    </tr>\n",
       "  </tbody>\n",
       "</table>\n",
       "</div>"
      ],
      "text/plain": [
       "                             auction_id experiment       date  hour  \\\n",
       "0  0016d14a-ae18-4a02-a204-6ba53b52f2ed    exposed 2020-07-05     2   \n",
       "1  008aafdf-deef-4482-8fec-d98e3da054da    exposed 2020-07-04    16   \n",
       "2  00a1384a-5118-4d1b-925b-6cdada50318d    exposed 2020-07-06     8   \n",
       "3  00b6fadb-10bd-49e3-a778-290da82f7a8d    control 2020-07-08     4   \n",
       "4  00ebf4a8-060f-4b99-93ac-c62724399483    control 2020-07-03    15   \n",
       "\n",
       "          device_make  platform_os                browser  yes  no  engaged  \\\n",
       "0               E5823            6  Chrome Mobile WebView    0   1        1   \n",
       "1  Generic Smartphone            6          Chrome Mobile    1   0        1   \n",
       "2  Generic Smartphone            6          Chrome Mobile    0   1        1   \n",
       "3    Samsung SM-A202F            6               Facebook    1   0        1   \n",
       "4  Generic Smartphone            6          Chrome Mobile    0   1        1   \n",
       "\n",
       "    device  dow  \n",
       "0   others    6  \n",
       "1   others    5  \n",
       "2   others    0  \n",
       "3  Samsung    2  \n",
       "4   others    4  "
      ]
     },
     "execution_count": 123,
     "metadata": {},
     "output_type": "execute_result"
    }
   ],
   "source": [
    "engaged.head()"
   ]
  },
  {
   "cell_type": "code",
   "execution_count": 156,
   "metadata": {},
   "outputs": [],
   "source": [
    "X = engaged.drop(['auction_id', 'date', 'device_make', 'yes', 'no', 'engaged'], axis = 1)\n",
    "y = engaged.yes"
   ]
  },
  {
   "cell_type": "code",
   "execution_count": 159,
   "metadata": {},
   "outputs": [],
   "source": [
    "\n",
    "X_train, X_test, y_train, y_test = train_test_split(X, y, test_size = .1, random_state = 10) #split dataset"
   ]
  },
  {
   "cell_type": "code",
   "execution_count": 160,
   "metadata": {},
   "outputs": [
    {
     "data": {
      "text/html": [
       "<div>\n",
       "<style scoped>\n",
       "    .dataframe tbody tr th:only-of-type {\n",
       "        vertical-align: middle;\n",
       "    }\n",
       "\n",
       "    .dataframe tbody tr th {\n",
       "        vertical-align: top;\n",
       "    }\n",
       "\n",
       "    .dataframe thead th {\n",
       "        text-align: right;\n",
       "    }\n",
       "</style>\n",
       "<table border=\"1\" class=\"dataframe\">\n",
       "  <thead>\n",
       "    <tr style=\"text-align: right;\">\n",
       "      <th></th>\n",
       "      <th>experiment</th>\n",
       "      <th>hour</th>\n",
       "      <th>platform_os</th>\n",
       "      <th>browser</th>\n",
       "      <th>device</th>\n",
       "      <th>dow</th>\n",
       "    </tr>\n",
       "  </thead>\n",
       "  <tbody>\n",
       "    <tr>\n",
       "      <th>1186</th>\n",
       "      <td>exposed</td>\n",
       "      <td>17</td>\n",
       "      <td>6</td>\n",
       "      <td>Chrome Mobile WebView</td>\n",
       "      <td>Samsung</td>\n",
       "      <td>3</td>\n",
       "    </tr>\n",
       "    <tr>\n",
       "      <th>973</th>\n",
       "      <td>exposed</td>\n",
       "      <td>21</td>\n",
       "      <td>6</td>\n",
       "      <td>Chrome Mobile WebView</td>\n",
       "      <td>Samsung</td>\n",
       "      <td>3</td>\n",
       "    </tr>\n",
       "    <tr>\n",
       "      <th>1087</th>\n",
       "      <td>exposed</td>\n",
       "      <td>15</td>\n",
       "      <td>6</td>\n",
       "      <td>Samsung Internet</td>\n",
       "      <td>Samsung</td>\n",
       "      <td>2</td>\n",
       "    </tr>\n",
       "    <tr>\n",
       "      <th>373</th>\n",
       "      <td>exposed</td>\n",
       "      <td>3</td>\n",
       "      <td>6</td>\n",
       "      <td>Chrome Mobile</td>\n",
       "      <td>others</td>\n",
       "      <td>0</td>\n",
       "    </tr>\n",
       "    <tr>\n",
       "      <th>752</th>\n",
       "      <td>control</td>\n",
       "      <td>7</td>\n",
       "      <td>6</td>\n",
       "      <td>Chrome Mobile</td>\n",
       "      <td>others</td>\n",
       "      <td>0</td>\n",
       "    </tr>\n",
       "  </tbody>\n",
       "</table>\n",
       "</div>"
      ],
      "text/plain": [
       "     experiment  hour  platform_os                browser   device  dow\n",
       "1186    exposed    17            6  Chrome Mobile WebView  Samsung    3\n",
       "973     exposed    21            6  Chrome Mobile WebView  Samsung    3\n",
       "1087    exposed    15            6       Samsung Internet  Samsung    2\n",
       "373     exposed     3            6          Chrome Mobile   others    0\n",
       "752     control     7            6          Chrome Mobile   others    0"
      ]
     },
     "execution_count": 160,
     "metadata": {},
     "output_type": "execute_result"
    }
   ],
   "source": [
    "X_train.head()"
   ]
  },
  {
   "cell_type": "markdown",
   "metadata": {},
   "source": [
    "Encode categorical variable"
   ]
  },
  {
   "cell_type": "code",
   "execution_count": 161,
   "metadata": {},
   "outputs": [],
   "source": [
    "enc = TargetEncoder(cols = ['experiment', 'device', 'browser']).fit(X_train,y_train)"
   ]
  },
  {
   "cell_type": "code",
   "execution_count": 162,
   "metadata": {},
   "outputs": [],
   "source": [
    "X_train = enc.transform(X_train)\n",
    "X_test = enc.transform(X_test)"
   ]
  },
  {
   "cell_type": "code",
   "execution_count": null,
   "metadata": {},
   "outputs": [],
   "source": []
  },
  {
   "cell_type": "code",
   "execution_count": 163,
   "metadata": {},
   "outputs": [],
   "source": [
    "def transform(X_train, X_test, n_poly = 3):\n",
    "    '''Transform data for linear model'''\n",
    "    \n",
    "    Q = QuantileTransformer(output_distribution= 'normal')\n",
    "    S = StandardScaler()\n",
    "    P = PowerTransformer(standardize= False)\n",
    "    #Scale Data and transform\n",
    "    X_train_std = S.fit_transform(X_train)\n",
    "    X_test_std = S.transform(X_test)\n",
    "    #Transformer to have a normal like distribution\n",
    "    X_train_nom = P.fit_transform(X_train_std)\n",
    "    X_test_nom = P.transform(X_test_std)\n",
    "    #Add polynomial features\n",
    "    poly = PolynomialFeatures(degree=n_poly)\n",
    "    X_train_poly = poly.fit_transform(X_train_nom)\n",
    "    X_test_poly = poly.transform(X_test_nom)\n",
    "\n",
    "    return X_train_poly, X_test_poly\n",
    "    \n",
    "def logit(X_train, X_test, y_train, y_test,multi_class = 'raise'):\n",
    "    '''Fit Logistic regression model'''\n",
    "    \n",
    "    #Call the model\n",
    "    lr = LogisticRegression(random_state= 10, max_iter = 10000)\n",
    "    #fit model\n",
    "    lr.fit(X_train, y_train)\n",
    "    #Obtain and print AUC Score for test and train\n",
    "    train_score = roc_auc_score(y_train, lr.predict_proba(X_train)[:,1], multi_class=multi_class)\n",
    "    test_score = roc_auc_score(y_test, lr.predict_proba(X_test)[:,1],multi_class=multi_class )\n",
    "    print(f'train score: {train_score}, test score: {test_score}')\n",
    "    \n",
    "def dt(X_train, X_test, y_train, y_test, multi_class = 'raise'):\n",
    "    '''Fit Decision Tree model'''\n",
    "    #Call model\n",
    "    dt = DecisionTreeClassifier(random_state=10)\n",
    "    \n",
    "    #Fit model\n",
    "    dt.fit(X_train, y_train)\n",
    "    \n",
    "    #Obtain and print train and test score\n",
    "    train_score = roc_auc_score(y_train, dt.predict_proba(X_train)[:,1], multi_class=multi_class)\n",
    "    test_score = roc_auc_score(y_test, dt.predict_proba(X_test)[:,1], multi_class=multi_class)\n",
    "    print(f'train score: {train_score}, test score: {test_score}')\n",
    "    \n",
    "def xgboost(X_train, X_test, y_train, y_test):\n",
    "    \n",
    "    '''Fit XGBoost model'''\n",
    "    #Call model\n",
    "    xgb = XGBClassifier(random_state= 10)\n",
    "    \n",
    "    #fit model\n",
    "    xgb.fit(X_train, y_train, eval_set=[(X_test, y_test)], early_stopping_rounds=100, eval_metric= 'auc', verbose=False)\n",
    "    \n",
    "    #Calculate and print train and test score\n",
    "    train_score = roc_auc_score(y_train, xgb.predict_proba(X_train)[:,1])\n",
    "    test_score = roc_auc_score(y_test, xgb.predict_proba(X_test)[:,1])\n",
    "    print(f'train score: {train_score}, test score: {test_score}')\n",
    "    \n",
    "    imp = pd.DataFrame(xgb.feature_importances_, index = X_train.columns, columns = ['coef'])\n",
    "    return imp.sort_values(by = 'coef', ascending = False)"
   ]
  },
  {
   "cell_type": "code",
   "execution_count": 164,
   "metadata": {},
   "outputs": [
    {
     "name": "stdout",
     "output_type": "stream",
     "text": [
      "train score: 0.6587537855991143, test score: 0.5272727272727273\n"
     ]
    }
   ],
   "source": [
    "imp = xgboost(X_train, X_test, y_train, y_test)"
   ]
  },
  {
   "cell_type": "code",
   "execution_count": 165,
   "metadata": {},
   "outputs": [
    {
     "data": {
      "text/html": [
       "<div>\n",
       "<style scoped>\n",
       "    .dataframe tbody tr th:only-of-type {\n",
       "        vertical-align: middle;\n",
       "    }\n",
       "\n",
       "    .dataframe tbody tr th {\n",
       "        vertical-align: top;\n",
       "    }\n",
       "\n",
       "    .dataframe thead th {\n",
       "        text-align: right;\n",
       "    }\n",
       "</style>\n",
       "<table border=\"1\" class=\"dataframe\">\n",
       "  <thead>\n",
       "    <tr style=\"text-align: right;\">\n",
       "      <th></th>\n",
       "      <th>coef</th>\n",
       "    </tr>\n",
       "  </thead>\n",
       "  <tbody>\n",
       "    <tr>\n",
       "      <th>device</th>\n",
       "      <td>0.287747</td>\n",
       "    </tr>\n",
       "    <tr>\n",
       "      <th>experiment</th>\n",
       "      <td>0.209806</td>\n",
       "    </tr>\n",
       "    <tr>\n",
       "      <th>dow</th>\n",
       "      <td>0.171368</td>\n",
       "    </tr>\n",
       "    <tr>\n",
       "      <th>hour</th>\n",
       "      <td>0.169532</td>\n",
       "    </tr>\n",
       "    <tr>\n",
       "      <th>browser</th>\n",
       "      <td>0.161548</td>\n",
       "    </tr>\n",
       "    <tr>\n",
       "      <th>platform_os</th>\n",
       "      <td>0.000000</td>\n",
       "    </tr>\n",
       "  </tbody>\n",
       "</table>\n",
       "</div>"
      ],
      "text/plain": [
       "                 coef\n",
       "device       0.287747\n",
       "experiment   0.209806\n",
       "dow          0.171368\n",
       "hour         0.169532\n",
       "browser      0.161548\n",
       "platform_os  0.000000"
      ]
     },
     "execution_count": 165,
     "metadata": {},
     "output_type": "execute_result"
    }
   ],
   "source": [
    "imp"
   ]
  },
  {
   "cell_type": "code",
   "execution_count": 166,
   "metadata": {},
   "outputs": [
    {
     "name": "stdout",
     "output_type": "stream",
     "text": [
      "train score: 0.6303243787755418, test score: 0.46571428571428575\n"
     ]
    }
   ],
   "source": [
    "logit(*transform(X_train, X_test), y_train, y_test)"
   ]
  },
  {
   "cell_type": "code",
   "execution_count": 134,
   "metadata": {},
   "outputs": [
    {
     "name": "stdout",
     "output_type": "stream",
     "text": [
      "train score: 0.9050824383603085, test score: 0.46545454545454545\n"
     ]
    }
   ],
   "source": [
    "dt(X_train, X_test, y_train, y_test)"
   ]
  },
  {
   "cell_type": "markdown",
   "metadata": {},
   "source": [
    "Hyperparameter tuning and cross validation"
   ]
  },
  {
   "cell_type": "code",
   "execution_count": 135,
   "metadata": {},
   "outputs": [],
   "source": [
    "def logit_hyper(X_train_trans, X_test_trans, y_train, y_test):\n",
    "    \n",
    "    '''Hyper Parameter Search and Cross Validation for logistic Regression'''\n",
    "    \n",
    "    print('Searching for best hyperparameter... ')\n",
    "    #Set params\n",
    "    params = {'C': np.linspace(0.0001,0.001,20)}\n",
    "    \n",
    "    #Init and fit grid search\n",
    "    lr_grid = GridSearchCV(LogisticRegression(random_state = 10, max_iter = 10000), params, scoring='roc_auc', cv =5)\n",
    "    lr_grid.fit(X_train_trans, y_train)\n",
    "    print('--------------------------------------\\nDONE')\n",
    "    print(f'Best Score {lr_grid.best_score_} Best Param {lr_grid.best_params_}')\n",
    "    print(f'AUC score on test set {roc_auc_score(y_test, lr_grid.best_estimator_.predict(X_test_trans))}')\n",
    "    \n",
    "    print('Running 5fold stratified Cross Val \\nReturning 5fold CV Scores')\n",
    "    print('--------------------------------------')\n",
    "    \n",
    "    error1 = [] #container to update score\n",
    "    y_pred_lr = [] #container to update predictions\n",
    "    \n",
    "    #stratified kfold\n",
    "    fold=StratifiedKFold(n_splits=5, shuffle=True, random_state=42)\n",
    "    \n",
    "    #Get index of splits and assing\n",
    "    for train_index, test_index in fold.split(X_train_trans, y_train):\n",
    "        X_t, X_val = X_train_trans[train_index], X_train_trans[test_index]\n",
    "        y_t, y_val = y_train.iloc[train_index], y_train.iloc[test_index]\n",
    "        \n",
    "        #train split with best estimator from grid_search  and predict\n",
    "        lr_grid.best_estimator_.fit(X_t, y_t)\n",
    "        preds=lr_grid.best_estimator_.predict_proba(X_val)[:, 1]\n",
    "        \n",
    "        #Auc score and append\n",
    "        print(\"AUC SCORE: \",roc_auc_score(y_val,preds))\n",
    "        error1.append(roc_auc_score(y_val,preds))\n",
    "        #predict on test set\n",
    "        prob = lr_grid.best_estimator_.predict_proba(X_test_trans)[:, 1]\n",
    "        y_pred_lr.append(prob)\n",
    "    print('--------------------------------------\\nDONE')\n",
    "    print(f'Average AUC SCORE: {np.mean(error1)}')\n",
    "    print('AUC ScORE ON HOLDOUT SET: {}'.format(roc_auc_score(y_test, np.mean(y_pred_lr,0))))"
   ]
  },
  {
   "cell_type": "code",
   "execution_count": 136,
   "metadata": {},
   "outputs": [
    {
     "name": "stdout",
     "output_type": "stream",
     "text": [
      "Searching for best hyperparameter... \n",
      "--------------------------------------\n",
      "DONE\n",
      "Best Score 0.5668463485249673 Best Param {'C': 0.0001}\n",
      "AUC score on test set 0.4967532467532468\n",
      "Running 5fold stratified Cross Val \n",
      "Returning 5fold CV Scores\n",
      "--------------------------------------\n",
      "AUC SCORE:  0.617948717948718\n",
      "AUC SCORE:  0.553886217948718\n",
      "AUC SCORE:  0.5476209580357859\n",
      "AUC SCORE:  0.5610032362459546\n",
      "AUC SCORE:  0.4818770226537217\n",
      "--------------------------------------\n",
      "DONE\n",
      "Average AUC SCORE: 0.5524672305665798\n",
      "AUC ScORE ON HOLDOUT SET: 0.452987012987013\n"
     ]
    }
   ],
   "source": [
    "logit_hyper(*transform(X_train, X_test), y_train, y_test)"
   ]
  },
  {
   "cell_type": "code",
   "execution_count": null,
   "metadata": {},
   "outputs": [],
   "source": []
  },
  {
   "cell_type": "code",
   "execution_count": 137,
   "metadata": {},
   "outputs": [],
   "source": [
    "def dt_hyper(X_train, X_test, y_train, y_test):\n",
    "    \n",
    "    '''Hyper Parameter Search and Cross Validation for logistic Regression'''\n",
    "\n",
    "    \n",
    "    print('Searching for best hyperparameter... ')\n",
    "    params = {\n",
    "              'criterion': ['gini', 'entropy'], \n",
    "              'max_depth': [2,4,6,8,10], \n",
    "              'max_features': [0.1, 0.2, 0.3, 0.4, 0.5],                \n",
    "              'min_samples_split': [2,3,4,5,6,7]}\n",
    "\n",
    "    dt_grid = GridSearchCV(DecisionTreeClassifier(random_state = 10), params, scoring='roc_auc', cv =5)\n",
    "    dt_grid.fit(X_train, y_train)\n",
    "    \n",
    "    print('--------------------------------------\\nDONE')\n",
    "    print(f'Best Score {dt_grid.best_score_} Best Param {dt_grid.best_params_}')\n",
    "    print(f'AUC score on test set {roc_auc_score(y_test, dt_grid.best_estimator_.predict(X_test))}')\n",
    "    \n",
    "    print('Running 5fold stratified Cross Val \\nReturning 5fold CV Scores')\n",
    "    print('--------------------------------------')\n",
    "\n",
    "    \n",
    "    error_dt = []\n",
    "    y_pred_dt = []\n",
    "    fold=StratifiedKFold(n_splits=5, shuffle=True, random_state=42)\n",
    "    for train_index, test_index in fold.split(X_train, y_train):\n",
    "        X_t, X_val = X_train.iloc[train_index], X_train.iloc[test_index]\n",
    "        y_t, y_val = y_train.iloc[train_index], y_train.iloc[test_index]\n",
    "        dt_grid.best_estimator_.fit(X_t, y_t)\n",
    "        preds=dt_grid.best_estimator_.predict_proba(X_val)[:, 1]\n",
    "        print(\"err: \",roc_auc_score(y_val,preds))\n",
    "        error_dt.append(roc_auc_score(y_val,preds))\n",
    "        prob = dt_grid.best_estimator_.predict_proba(X_test)[:, 1]\n",
    "        y_pred_dt.append(prob)\n",
    "    print('--------------------------------------\\nDONE')\n",
    "    print(f'Average AUC SCORE: {np.mean(error_dt)}')\n",
    "    print('AUC ScORE ON HOLDOUT SET: {}'.format(roc_auc_score(y_test, np.mean(y_pred_dt,0))))"
   ]
  },
  {
   "cell_type": "code",
   "execution_count": 138,
   "metadata": {},
   "outputs": [
    {
     "name": "stdout",
     "output_type": "stream",
     "text": [
      "Searching for best hyperparameter... \n",
      "--------------------------------------\n",
      "DONE\n",
      "Best Score 0.5577747510837205 Best Param {'criterion': 'gini', 'max_depth': 6, 'max_features': 0.5, 'min_samples_split': 7}\n",
      "AUC score on test set 0.5441558441558442\n",
      "Running 5fold stratified Cross Val \n",
      "Returning 5fold CV Scores\n",
      "--------------------------------------\n",
      "err:  0.611258012820513\n",
      "err:  0.4983974358974359\n",
      "err:  0.5511915269196822\n",
      "err:  0.49093851132686084\n",
      "err:  0.5484223300970874\n",
      "--------------------------------------\n",
      "DONE\n",
      "Average AUC SCORE: 0.5400415634123158\n",
      "AUC ScORE ON HOLDOUT SET: 0.5424675324675325\n"
     ]
    }
   ],
   "source": [
    "dt_hyper(X_train, X_test, y_train, y_test)"
   ]
  },
  {
   "cell_type": "code",
   "execution_count": null,
   "metadata": {},
   "outputs": [],
   "source": []
  },
  {
   "cell_type": "code",
   "execution_count": 105,
   "metadata": {},
   "outputs": [
    {
     "name": "stdout",
     "output_type": "stream",
     "text": [
      "[0]\tTrain-auc:0.630881\tTest-auc:0.510909\n",
      "Multiple eval metrics have been passed: 'Test-auc' will be used for early stopping.\n",
      "\n",
      "Will train until Test-auc hasn't improved in 100 rounds.\n",
      "[1]\tTrain-auc:0.630834\tTest-auc:0.511429\n",
      "[2]\tTrain-auc:0.639233\tTest-auc:0.519481\n",
      "[3]\tTrain-auc:0.635942\tTest-auc:0.521818\n",
      "[4]\tTrain-auc:0.641564\tTest-auc:0.526234\n",
      "[5]\tTrain-auc:0.645393\tTest-auc:0.530649\n",
      "[6]\tTrain-auc:0.646178\tTest-auc:0.531948\n",
      "[7]\tTrain-auc:0.647311\tTest-auc:0.537403\n",
      "[8]\tTrain-auc:0.647388\tTest-auc:0.537143\n",
      "[9]\tTrain-auc:0.647346\tTest-auc:0.537662\n",
      "[10]\tTrain-auc:0.647691\tTest-auc:0.536104\n",
      "[11]\tTrain-auc:0.646899\tTest-auc:0.536364\n",
      "[12]\tTrain-auc:0.646651\tTest-auc:0.535844\n",
      "[13]\tTrain-auc:0.645589\tTest-auc:0.535844\n",
      "[14]\tTrain-auc:0.645029\tTest-auc:0.536104\n",
      "[15]\tTrain-auc:0.646886\tTest-auc:0.536364\n",
      "[16]\tTrain-auc:0.646506\tTest-auc:0.535844\n",
      "[17]\tTrain-auc:0.645087\tTest-auc:0.537403\n",
      "[18]\tTrain-auc:0.64772\tTest-auc:0.536364\n",
      "[19]\tTrain-auc:0.646867\tTest-auc:0.536104\n",
      "[20]\tTrain-auc:0.647787\tTest-auc:0.536364\n",
      "[21]\tTrain-auc:0.64771\tTest-auc:0.536364\n",
      "[22]\tTrain-auc:0.647649\tTest-auc:0.536364\n",
      "[23]\tTrain-auc:0.647726\tTest-auc:0.536364\n",
      "[24]\tTrain-auc:0.6477\tTest-auc:0.536364\n",
      "[25]\tTrain-auc:0.647662\tTest-auc:0.536364\n",
      "[26]\tTrain-auc:0.647729\tTest-auc:0.536364\n",
      "[27]\tTrain-auc:0.647697\tTest-auc:0.535844\n",
      "[28]\tTrain-auc:0.647761\tTest-auc:0.536623\n",
      "[29]\tTrain-auc:0.647732\tTest-auc:0.535844\n",
      "[30]\tTrain-auc:0.6477\tTest-auc:0.535844\n",
      "[31]\tTrain-auc:0.647736\tTest-auc:0.536104\n",
      "[32]\tTrain-auc:0.647707\tTest-auc:0.535844\n",
      "[33]\tTrain-auc:0.647752\tTest-auc:0.536104\n",
      "[34]\tTrain-auc:0.649181\tTest-auc:0.541688\n",
      "[35]\tTrain-auc:0.649171\tTest-auc:0.541688\n",
      "[36]\tTrain-auc:0.649229\tTest-auc:0.541169\n",
      "[37]\tTrain-auc:0.649223\tTest-auc:0.541169\n",
      "[38]\tTrain-auc:0.649329\tTest-auc:0.541169\n",
      "[39]\tTrain-auc:0.649329\tTest-auc:0.541169\n",
      "[40]\tTrain-auc:0.651704\tTest-auc:0.543247\n",
      "[41]\tTrain-auc:0.651804\tTest-auc:0.543247\n",
      "[42]\tTrain-auc:0.651746\tTest-auc:0.540649\n",
      "[43]\tTrain-auc:0.651778\tTest-auc:0.536753\n",
      "[44]\tTrain-auc:0.651598\tTest-auc:0.536753\n",
      "[45]\tTrain-auc:0.651633\tTest-auc:0.537273\n",
      "[46]\tTrain-auc:0.651694\tTest-auc:0.536753\n",
      "[47]\tTrain-auc:0.651649\tTest-auc:0.537013\n",
      "[48]\tTrain-auc:0.651875\tTest-auc:0.537532\n",
      "[49]\tTrain-auc:0.651858\tTest-auc:0.537532\n",
      "[50]\tTrain-auc:0.652175\tTest-auc:0.537403\n",
      "[51]\tTrain-auc:0.652172\tTest-auc:0.537403\n",
      "[52]\tTrain-auc:0.651603\tTest-auc:0.532468\n",
      "[53]\tTrain-auc:0.651477\tTest-auc:0.531948\n",
      "[54]\tTrain-auc:0.652835\tTest-auc:0.538442\n",
      "[55]\tTrain-auc:0.651609\tTest-auc:0.532468\n",
      "[56]\tTrain-auc:0.651548\tTest-auc:0.530909\n",
      "[57]\tTrain-auc:0.651487\tTest-auc:0.530649\n",
      "[58]\tTrain-auc:0.651554\tTest-auc:0.530649\n",
      "[59]\tTrain-auc:0.651582\tTest-auc:0.52961\n",
      "[60]\tTrain-auc:0.651508\tTest-auc:0.52961\n",
      "[61]\tTrain-auc:0.65162\tTest-auc:0.530649\n",
      "[62]\tTrain-auc:0.651636\tTest-auc:0.530649\n",
      "[63]\tTrain-auc:0.651659\tTest-auc:0.531169\n",
      "[64]\tTrain-auc:0.651643\tTest-auc:0.528312\n",
      "[65]\tTrain-auc:0.651546\tTest-auc:0.528831\n",
      "[66]\tTrain-auc:0.651678\tTest-auc:0.528312\n",
      "[67]\tTrain-auc:0.651527\tTest-auc:0.528831\n",
      "[68]\tTrain-auc:0.651736\tTest-auc:0.528312\n",
      "[69]\tTrain-auc:0.651652\tTest-auc:0.528312\n",
      "[70]\tTrain-auc:0.651514\tTest-auc:0.528831\n",
      "[71]\tTrain-auc:0.651974\tTest-auc:0.528312\n",
      "[72]\tTrain-auc:0.651566\tTest-auc:0.528831\n",
      "[73]\tTrain-auc:0.651887\tTest-auc:0.528571\n",
      "[74]\tTrain-auc:0.65181\tTest-auc:0.528571\n",
      "[75]\tTrain-auc:0.652357\tTest-auc:0.528571\n",
      "[76]\tTrain-auc:0.652415\tTest-auc:0.528571\n",
      "[77]\tTrain-auc:0.652776\tTest-auc:0.528571\n",
      "[78]\tTrain-auc:0.652554\tTest-auc:0.528831\n",
      "[79]\tTrain-auc:0.652547\tTest-auc:0.528312\n",
      "[80]\tTrain-auc:0.652679\tTest-auc:0.528571\n",
      "[81]\tTrain-auc:0.653749\tTest-auc:0.531169\n",
      "[82]\tTrain-auc:0.653675\tTest-auc:0.530649\n",
      "[83]\tTrain-auc:0.653579\tTest-auc:0.530649\n",
      "[84]\tTrain-auc:0.653682\tTest-auc:0.530649\n",
      "[85]\tTrain-auc:0.653717\tTest-auc:0.530649\n",
      "[86]\tTrain-auc:0.653588\tTest-auc:0.530909\n",
      "[87]\tTrain-auc:0.653592\tTest-auc:0.530649\n",
      "[88]\tTrain-auc:0.653447\tTest-auc:0.530909\n",
      "[89]\tTrain-auc:0.653508\tTest-auc:0.52987\n",
      "[90]\tTrain-auc:0.653659\tTest-auc:0.530649\n",
      "[91]\tTrain-auc:0.653775\tTest-auc:0.521039\n",
      "[92]\tTrain-auc:0.654151\tTest-auc:0.52\n",
      "[93]\tTrain-auc:0.654052\tTest-auc:0.52\n",
      "[94]\tTrain-auc:0.654151\tTest-auc:0.52\n",
      "[95]\tTrain-auc:0.654065\tTest-auc:0.52\n",
      "[96]\tTrain-auc:0.654161\tTest-auc:0.52\n",
      "[97]\tTrain-auc:0.654161\tTest-auc:0.52026\n",
      "[98]\tTrain-auc:0.654119\tTest-auc:0.52026\n",
      "[99]\tTrain-auc:0.654132\tTest-auc:0.52026\n",
      "[100]\tTrain-auc:0.654209\tTest-auc:0.52026\n",
      "[101]\tTrain-auc:0.654197\tTest-auc:0.52026\n",
      "[102]\tTrain-auc:0.65418\tTest-auc:0.52\n",
      "[103]\tTrain-auc:0.65419\tTest-auc:0.52\n",
      "[104]\tTrain-auc:0.654148\tTest-auc:0.52\n",
      "[105]\tTrain-auc:0.654139\tTest-auc:0.52\n",
      "[106]\tTrain-auc:0.654245\tTest-auc:0.52\n",
      "[107]\tTrain-auc:0.654177\tTest-auc:0.52026\n",
      "[108]\tTrain-auc:0.654116\tTest-auc:0.52026\n",
      "[109]\tTrain-auc:0.653907\tTest-auc:0.52026\n",
      "[110]\tTrain-auc:0.65411\tTest-auc:0.52\n",
      "[111]\tTrain-auc:0.653904\tTest-auc:0.516104\n",
      "[112]\tTrain-auc:0.654058\tTest-auc:0.516104\n",
      "[113]\tTrain-auc:0.654187\tTest-auc:0.515844\n",
      "[114]\tTrain-auc:0.654438\tTest-auc:0.515584\n",
      "[115]\tTrain-auc:0.654325\tTest-auc:0.516364\n",
      "[116]\tTrain-auc:0.654309\tTest-auc:0.516364\n",
      "[117]\tTrain-auc:0.654357\tTest-auc:0.516623\n",
      "[118]\tTrain-auc:0.654303\tTest-auc:0.516623\n",
      "[119]\tTrain-auc:0.654362\tTest-auc:0.516623\n",
      "[120]\tTrain-auc:0.654327\tTest-auc:0.516623\n",
      "[121]\tTrain-auc:0.654356\tTest-auc:0.516364\n",
      "[122]\tTrain-auc:0.654311\tTest-auc:0.516104\n",
      "[123]\tTrain-auc:0.654523\tTest-auc:0.516364\n",
      "[124]\tTrain-auc:0.654353\tTest-auc:0.516364\n",
      "[125]\tTrain-auc:0.654346\tTest-auc:0.516364\n",
      "[126]\tTrain-auc:0.654621\tTest-auc:0.516493\n",
      "[127]\tTrain-auc:0.654646\tTest-auc:0.516493\n",
      "[128]\tTrain-auc:0.655128\tTest-auc:0.516234\n",
      "[129]\tTrain-auc:0.655344\tTest-auc:0.518571\n",
      "[130]\tTrain-auc:0.655405\tTest-auc:0.518831\n",
      "[131]\tTrain-auc:0.655428\tTest-auc:0.518312\n",
      "[132]\tTrain-auc:0.655392\tTest-auc:0.518571\n",
      "[133]\tTrain-auc:0.655412\tTest-auc:0.518571\n",
      "[134]\tTrain-auc:0.655338\tTest-auc:0.517532\n",
      "[135]\tTrain-auc:0.655231\tTest-auc:0.517532\n",
      "[136]\tTrain-auc:0.655189\tTest-auc:0.517532\n",
      "[137]\tTrain-auc:0.655148\tTest-auc:0.517013\n",
      "[138]\tTrain-auc:0.655148\tTest-auc:0.517013\n",
      "[139]\tTrain-auc:0.654913\tTest-auc:0.516234\n",
      "[140]\tTrain-auc:0.655238\tTest-auc:0.517013\n",
      "Stopping. Best iteration:\n",
      "[40]\tTrain-auc:0.651704\tTest-auc:0.543247\n",
      "\n"
     ]
    }
   ],
   "source": [
    "model = train(\n",
    "    params,\n",
    "    dtrain,\n",
    "    num_boost_round=num_boost_round,\n",
    "    evals=[(dtrain, \"Train\"),(dtest, \"Test\")],\n",
    "    early_stopping_rounds=100,\n",
    "    verbose_eval=1\n",
    ")"
   ]
  },
  {
   "cell_type": "code",
   "execution_count": 104,
   "metadata": {},
   "outputs": [
    {
     "data": {
      "text/html": [
       "<div>\n",
       "<style scoped>\n",
       "    .dataframe tbody tr th:only-of-type {\n",
       "        vertical-align: middle;\n",
       "    }\n",
       "\n",
       "    .dataframe tbody tr th {\n",
       "        vertical-align: top;\n",
       "    }\n",
       "\n",
       "    .dataframe thead th {\n",
       "        text-align: right;\n",
       "    }\n",
       "</style>\n",
       "<table border=\"1\" class=\"dataframe\">\n",
       "  <thead>\n",
       "    <tr style=\"text-align: right;\">\n",
       "      <th></th>\n",
       "      <th>train-auc-mean</th>\n",
       "      <th>train-auc-std</th>\n",
       "      <th>test-auc-mean</th>\n",
       "      <th>test-auc-std</th>\n",
       "    </tr>\n",
       "  </thead>\n",
       "  <tbody>\n",
       "    <tr>\n",
       "      <th>0</th>\n",
       "      <td>0.658976</td>\n",
       "      <td>0.007554</td>\n",
       "      <td>0.518102</td>\n",
       "      <td>0.032514</td>\n",
       "    </tr>\n",
       "    <tr>\n",
       "      <th>1</th>\n",
       "      <td>0.659463</td>\n",
       "      <td>0.008510</td>\n",
       "      <td>0.520299</td>\n",
       "      <td>0.031096</td>\n",
       "    </tr>\n",
       "    <tr>\n",
       "      <th>2</th>\n",
       "      <td>0.658166</td>\n",
       "      <td>0.008167</td>\n",
       "      <td>0.521244</td>\n",
       "      <td>0.031083</td>\n",
       "    </tr>\n",
       "    <tr>\n",
       "      <th>3</th>\n",
       "      <td>0.658558</td>\n",
       "      <td>0.008308</td>\n",
       "      <td>0.521627</td>\n",
       "      <td>0.031344</td>\n",
       "    </tr>\n",
       "    <tr>\n",
       "      <th>4</th>\n",
       "      <td>0.657978</td>\n",
       "      <td>0.008060</td>\n",
       "      <td>0.521448</td>\n",
       "      <td>0.031567</td>\n",
       "    </tr>\n",
       "    <tr>\n",
       "      <th>...</th>\n",
       "      <td>...</td>\n",
       "      <td>...</td>\n",
       "      <td>...</td>\n",
       "      <td>...</td>\n",
       "    </tr>\n",
       "    <tr>\n",
       "      <th>62</th>\n",
       "      <td>0.669559</td>\n",
       "      <td>0.011157</td>\n",
       "      <td>0.523979</td>\n",
       "      <td>0.041305</td>\n",
       "    </tr>\n",
       "    <tr>\n",
       "      <th>63</th>\n",
       "      <td>0.669833</td>\n",
       "      <td>0.011523</td>\n",
       "      <td>0.524044</td>\n",
       "      <td>0.041233</td>\n",
       "    </tr>\n",
       "    <tr>\n",
       "      <th>64</th>\n",
       "      <td>0.669892</td>\n",
       "      <td>0.011714</td>\n",
       "      <td>0.524011</td>\n",
       "      <td>0.041259</td>\n",
       "    </tr>\n",
       "    <tr>\n",
       "      <th>65</th>\n",
       "      <td>0.669552</td>\n",
       "      <td>0.011509</td>\n",
       "      <td>0.524092</td>\n",
       "      <td>0.041199</td>\n",
       "    </tr>\n",
       "    <tr>\n",
       "      <th>66</th>\n",
       "      <td>0.669499</td>\n",
       "      <td>0.011643</td>\n",
       "      <td>0.524617</td>\n",
       "      <td>0.042145</td>\n",
       "    </tr>\n",
       "  </tbody>\n",
       "</table>\n",
       "<p>67 rows × 4 columns</p>\n",
       "</div>"
      ],
      "text/plain": [
       "    train-auc-mean  train-auc-std  test-auc-mean  test-auc-std\n",
       "0         0.658976       0.007554       0.518102      0.032514\n",
       "1         0.659463       0.008510       0.520299      0.031096\n",
       "2         0.658166       0.008167       0.521244      0.031083\n",
       "3         0.658558       0.008308       0.521627      0.031344\n",
       "4         0.657978       0.008060       0.521448      0.031567\n",
       "..             ...            ...            ...           ...\n",
       "62        0.669559       0.011157       0.523979      0.041305\n",
       "63        0.669833       0.011523       0.524044      0.041233\n",
       "64        0.669892       0.011714       0.524011      0.041259\n",
       "65        0.669552       0.011509       0.524092      0.041199\n",
       "66        0.669499       0.011643       0.524617      0.042145\n",
       "\n",
       "[67 rows x 4 columns]"
      ]
     },
     "execution_count": 104,
     "metadata": {},
     "output_type": "execute_result"
    }
   ],
   "source": [
    "cv_results = cv(\n",
    "    params,\n",
    "    dtrain,\n",
    "    num_boost_round=num_boost_round,\n",
    "    seed=42,\n",
    "    nfold=5,\n",
    "    metrics={'auc'},\n",
    "    early_stopping_rounds=100\n",
    ")\n",
    "cv_results"
   ]
  },
  {
   "cell_type": "code",
   "execution_count": null,
   "metadata": {},
   "outputs": [],
   "source": []
  },
  {
   "cell_type": "code",
   "execution_count": 113,
   "metadata": {},
   "outputs": [
    {
     "name": "stdout",
     "output_type": "stream",
     "text": [
      "CV with max_depth=9, min_child_weight=5\n",
      "\tMAE 0.5279012 for 0 rounds\n",
      "CV with max_depth=9, min_child_weight=6\n",
      "\tMAE 0.521392 for 0 rounds\n",
      "CV with max_depth=9, min_child_weight=7\n",
      "\tMAE 0.5204392 for 0 rounds\n",
      "CV with max_depth=10, min_child_weight=5\n",
      "\tMAE 0.5222294000000001 for 2 rounds\n",
      "CV with max_depth=10, min_child_weight=6\n",
      "\tMAE 0.5231806 for 0 rounds\n",
      "CV with max_depth=10, min_child_weight=7\n",
      "\tMAE 0.5204392 for 0 rounds\n",
      "CV with max_depth=11, min_child_weight=5\n",
      "\tMAE 0.5232302000000001 for 2 rounds\n",
      "CV with max_depth=11, min_child_weight=6\n",
      "\tMAE 0.5231806 for 0 rounds\n",
      "CV with max_depth=11, min_child_weight=7\n",
      "\tMAE 0.5204392 for 0 rounds\n",
      "Best params: 9, 5, AUC: 0.5279012\n"
     ]
    }
   ],
   "source": [
    "gridsearch_params = [\n",
    "    (max_depth, min_child_weight)\n",
    "    for max_depth in range(9,12)\n",
    "    for min_child_weight in range(5,8)\n",
    "]\n",
    "\n",
    "# Define initial best params and MAE\n",
    "max_auc = 0\n",
    "best_params = None\n",
    "for max_depth, min_child_weight in gridsearch_params:\n",
    "    print(\"CV with max_depth={}, min_child_weight={}\".format(\n",
    "                             max_depth,\n",
    "                             min_child_weight))\n",
    "    # Update our parameters\n",
    "    params['max_depth'] = max_depth\n",
    "    params['min_child_weight'] = min_child_weight\n",
    "    # Run CV\n",
    "    cv_results = cv(\n",
    "        params,\n",
    "        dtrain,\n",
    "        num_boost_round=num_boost_round,\n",
    "        seed=42,\n",
    "        nfold=5,\n",
    "        metrics={'auc'},\n",
    "        early_stopping_rounds=100\n",
    "    )\n",
    "    # Update best MAE\n",
    "    mean_auc = cv_results['test-auc-mean'].max()\n",
    "    boost_rounds = cv_results['test-auc-mean'].argmin()\n",
    "    print(\"\\tMAE {} for {} rounds\".format(mean_auc, boost_rounds))\n",
    "    if mean_auc > max_auc:\n",
    "        max_auc = mean_auc\n",
    "        best_params = (max_depth,min_child_weight)\n",
    "print(\"Best params: {}, {}, AUC: {}\".format(best_params[0], best_params[1], max_auc))"
   ]
  },
  {
   "cell_type": "code",
   "execution_count": null,
   "metadata": {},
   "outputs": [],
   "source": []
  },
  {
   "cell_type": "code",
   "execution_count": 114,
   "metadata": {},
   "outputs": [
    {
     "name": "stdout",
     "output_type": "stream",
     "text": [
      "CV with subsample=1.0, colsample=1.0\n",
      "\tAUC 0.5266934 for 0 rounds\n",
      "CV with subsample=1.0, colsample=0.9\n",
      "\tAUC 0.5068118 for 0 rounds\n",
      "CV with subsample=1.0, colsample=0.8\n",
      "\tAUC 0.517125 for 0 rounds\n",
      "CV with subsample=1.0, colsample=0.7\n",
      "\tAUC 0.517125 for 0 rounds\n",
      "CV with subsample=0.9, colsample=1.0\n",
      "\tAUC 0.5211083999999999 for 1 rounds\n",
      "CV with subsample=0.9, colsample=0.9\n",
      "\tAUC 0.530201 for 0 rounds\n",
      "CV with subsample=0.9, colsample=0.8\n",
      "\tAUC 0.521569 for 0 rounds\n",
      "CV with subsample=0.9, colsample=0.7\n",
      "\tAUC 0.521569 for 0 rounds\n",
      "CV with subsample=0.8, colsample=1.0\n",
      "\tAUC 0.5204392 for 0 rounds\n",
      "CV with subsample=0.8, colsample=0.9\n",
      "\tAUC 0.519811 for 0 rounds\n",
      "CV with subsample=0.8, colsample=0.8\n",
      "\tAUC 0.5245918 for 0 rounds\n",
      "CV with subsample=0.8, colsample=0.7\n",
      "\tAUC 0.5245918 for 0 rounds\n",
      "CV with subsample=0.7, colsample=1.0\n",
      "\tAUC 0.5250084 for 1 rounds\n",
      "CV with subsample=0.7, colsample=0.9\n",
      "\tAUC 0.522124 for 0 rounds\n",
      "CV with subsample=0.7, colsample=0.8\n",
      "\tAUC 0.5243010000000001 for 0 rounds\n",
      "CV with subsample=0.7, colsample=0.7\n",
      "\tAUC 0.5243010000000001 for 0 rounds\n",
      "Best params: 0.9, 0.9, MAE: 0.530201\n"
     ]
    }
   ],
   "source": [
    "gridsearch_params = [\n",
    "    (subsample, colsample)\n",
    "    for subsample in [i/10. for i in range(7,11)]\n",
    "    for colsample in [i/10. for i in range(7,11)]\n",
    "]\n",
    "\n",
    "max_auc = 0\n",
    "best_params = None\n",
    "# We start by the largest values and go down to the smallest\n",
    "for subsample, colsample in reversed(gridsearch_params):\n",
    "    print(\"CV with subsample={}, colsample={}\".format(\n",
    "                             subsample,\n",
    "                             colsample))\n",
    "    # We update our parameters\n",
    "    params['subsample'] = subsample\n",
    "    params['colsample_bytree'] = colsample\n",
    "    # Run CV\n",
    "    cv_results = cv(\n",
    "        params,\n",
    "        dtrain,\n",
    "        num_boost_round=num_boost_round,\n",
    "        seed=42,\n",
    "        nfold=5,\n",
    "        metrics={'auc'},\n",
    "        early_stopping_rounds=100\n",
    "    )\n",
    "    # Update best score\n",
    "    mean_auc = cv_results['test-auc-mean'].max()\n",
    "    boost_rounds = cv_results['test-auc-mean'].argmin()\n",
    "    print(\"\\tAUC {} for {} rounds\".format(mean_auc, boost_rounds))\n",
    "    if mean_auc > max_auc:\n",
    "        max_auc = mean_auc\n",
    "        best_params = (subsample,colsample)\n",
    "print(\"Best params: {}, {}, MAE: {}\".format(best_params[0], best_params[1], max_auc))"
   ]
  },
  {
   "cell_type": "code",
   "execution_count": 115,
   "metadata": {},
   "outputs": [],
   "source": [
    "params['subsample'] = .9\n",
    "params['colsample_bytree'] = .9"
   ]
  },
  {
   "cell_type": "code",
   "execution_count": 121,
   "metadata": {},
   "outputs": [
    {
     "name": "stdout",
     "output_type": "stream",
     "text": [
      "Wall time: 0 ns\n",
      "CV with eta=0.5\n",
      "Wall time: 0 ns\n",
      "\tauc 0.530201 for 0 rounds\n",
      "\n",
      "CV with eta=0.5111111111111111\n",
      "Wall time: 0 ns\n",
      "\tauc 0.5201936 for 0 rounds\n",
      "\n",
      "CV with eta=0.5222222222222223\n",
      "Wall time: 0 ns\n",
      "\tauc 0.5201416 for 0 rounds\n",
      "\n",
      "CV with eta=0.5333333333333333\n",
      "Wall time: 0 ns\n",
      "\tauc 0.519981 for 0 rounds\n",
      "\n",
      "CV with eta=0.5444444444444444\n",
      "Wall time: 0 ns\n",
      "\tauc 0.5230608 for 2 rounds\n",
      "\n",
      "CV with eta=0.5555555555555556\n",
      "Wall time: 0 ns\n",
      "\tauc 0.5182838000000001 for 0 rounds\n",
      "\n",
      "CV with eta=0.5666666666666667\n",
      "Wall time: 0 ns\n",
      "\tauc 0.5178445999999999 for 0 rounds\n",
      "\n",
      "CV with eta=0.5777777777777777\n",
      "Wall time: 0 ns\n",
      "\tauc 0.5211307999999999 for 2 rounds\n",
      "\n",
      "CV with eta=0.5888888888888889\n",
      "Wall time: 0 ns\n",
      "\tauc 0.5162724000000001 for 0 rounds\n",
      "\n",
      "CV with eta=0.6\n",
      "Wall time: 0 ns\n",
      "\tauc 0.5235725999999999 for 2 rounds\n",
      "\n",
      "Best params: 0.5, MAE: 0.530201\n"
     ]
    }
   ],
   "source": [
    "%time\n",
    "# This can take some time…\n",
    "max_auc = 0\n",
    "best_params = None\n",
    "for eta in np.linspace(0.5, 0.6, 10):\n",
    "    print(\"CV with eta={}\".format(eta))\n",
    "    # We update our parameters\n",
    "    params['eta'] = eta\n",
    "    # Run and time CV\n",
    "    %time\n",
    "    cv_results = cv(\n",
    "            params,\n",
    "            dtrain,\n",
    "            num_boost_round=num_boost_round,\n",
    "            seed=42,\n",
    "            nfold=5,\n",
    "            metrics=['auc'],\n",
    "            early_stopping_rounds=100)\n",
    "    # Update best score\n",
    "    mean_auc = cv_results['test-auc-mean'].max()\n",
    "    boost_rounds = cv_results['test-auc-mean'].argmin()\n",
    "    print(\"\\tauc {} for {} rounds\\n\".format(mean_auc, boost_rounds))\n",
    "    if mean_auc > max_auc:\n",
    "        max_auc = mean_auc\n",
    "        best_params = eta\n",
    "print(\"Best params: {}, MAE: {}\".format(best_params, max_auc))"
   ]
  },
  {
   "cell_type": "code",
   "execution_count": 122,
   "metadata": {},
   "outputs": [],
   "source": [
    "params['eta'] = .5"
   ]
  },
  {
   "cell_type": "code",
   "execution_count": 123,
   "metadata": {},
   "outputs": [
    {
     "data": {
      "text/plain": [
       "{'max_depth': 11,\n",
       " 'min_child_weight': 7,\n",
       " 'eta': 0.5,\n",
       " 'subsample': 0.9,\n",
       " 'colsample_bytree': 0.9,\n",
       " 'objective': 'binary:logistic',\n",
       " 'eval_metric': 'auc'}"
      ]
     },
     "execution_count": 123,
     "metadata": {},
     "output_type": "execute_result"
    }
   ],
   "source": [
    "params"
   ]
  },
  {
   "cell_type": "code",
   "execution_count": 130,
   "metadata": {},
   "outputs": [
    {
     "data": {
      "text/html": [
       "<div>\n",
       "<style scoped>\n",
       "    .dataframe tbody tr th:only-of-type {\n",
       "        vertical-align: middle;\n",
       "    }\n",
       "\n",
       "    .dataframe tbody tr th {\n",
       "        vertical-align: top;\n",
       "    }\n",
       "\n",
       "    .dataframe thead th {\n",
       "        text-align: right;\n",
       "    }\n",
       "</style>\n",
       "<table border=\"1\" class=\"dataframe\">\n",
       "  <thead>\n",
       "    <tr style=\"text-align: right;\">\n",
       "      <th></th>\n",
       "      <th>train-auc-mean</th>\n",
       "      <th>train-auc-std</th>\n",
       "      <th>test-auc-mean</th>\n",
       "      <th>test-auc-std</th>\n",
       "    </tr>\n",
       "  </thead>\n",
       "  <tbody>\n",
       "    <tr>\n",
       "      <th>0</th>\n",
       "      <td>0.622826</td>\n",
       "      <td>0.005556</td>\n",
       "      <td>0.512711</td>\n",
       "      <td>0.036566</td>\n",
       "    </tr>\n",
       "    <tr>\n",
       "      <th>1</th>\n",
       "      <td>0.638594</td>\n",
       "      <td>0.006344</td>\n",
       "      <td>0.514727</td>\n",
       "      <td>0.024669</td>\n",
       "    </tr>\n",
       "    <tr>\n",
       "      <th>2</th>\n",
       "      <td>0.656931</td>\n",
       "      <td>0.005639</td>\n",
       "      <td>0.516346</td>\n",
       "      <td>0.032424</td>\n",
       "    </tr>\n",
       "    <tr>\n",
       "      <th>3</th>\n",
       "      <td>0.665998</td>\n",
       "      <td>0.008602</td>\n",
       "      <td>0.530201</td>\n",
       "      <td>0.036797</td>\n",
       "    </tr>\n",
       "  </tbody>\n",
       "</table>\n",
       "</div>"
      ],
      "text/plain": [
       "   train-auc-mean  train-auc-std  test-auc-mean  test-auc-std\n",
       "0        0.622826       0.005556       0.512711      0.036566\n",
       "1        0.638594       0.006344       0.514727      0.024669\n",
       "2        0.656931       0.005639       0.516346      0.032424\n",
       "3        0.665998       0.008602       0.530201      0.036797"
      ]
     },
     "execution_count": 130,
     "metadata": {},
     "output_type": "execute_result"
    }
   ],
   "source": [
    "cv_results = cv(\n",
    "    params,\n",
    "    dtrain,\n",
    "    num_boost_round=num_boost_round,\n",
    "    seed=42,\n",
    "    nfold=5,\n",
    "    metrics={'auc'},\n",
    "    early_stopping_rounds=100\n",
    ")\n",
    "cv_results"
   ]
  },
  {
   "cell_type": "code",
   "execution_count": null,
   "metadata": {},
   "outputs": [],
   "source": []
  },
  {
   "cell_type": "markdown",
   "metadata": {},
   "source": [
    "Include class with no engagement"
   ]
  },
  {
   "cell_type": "code",
   "execution_count": 139,
   "metadata": {},
   "outputs": [
    {
     "name": "stderr",
     "output_type": "stream",
     "text": [
      "C:\\Users\\dell\\anaconda3\\lib\\site-packages\\pandas\\core\\indexing.py:671: SettingWithCopyWarning: \n",
      "A value is trying to be set on a copy of a slice from a DataFrame\n",
      "\n",
      "See the caveats in the documentation: https://pandas.pydata.org/pandas-docs/stable/user_guide/indexing.html#returning-a-view-versus-a-copy\n",
      "  self._setitem_with_indexer(indexer, value)\n"
     ]
    },
    {
     "name": "stdout",
     "output_type": "stream",
     "text": [
      "Wall time: 2.44 s\n"
     ]
    }
   ],
   "source": [
    "%%time\n",
    "df['target'] = -1\n",
    "for i in range(df.shape[0]):\n",
    "    if (df.yes[i] == df.no[i]):\n",
    "        df['target'].loc[i] = 2\n",
    "    elif df.yes[i] == 1:\n",
    "        df['target'].loc[i] = 1\n",
    "    else:\n",
    "        df['target'].loc[i] = 0"
   ]
  },
  {
   "cell_type": "markdown",
   "metadata": {},
   "source": [
    "The distribution is greatly imbalanced"
   ]
  },
  {
   "cell_type": "code",
   "execution_count": 141,
   "metadata": {},
   "outputs": [
    {
     "data": {
      "text/plain": [
       "2    6834\n",
       "0     671\n",
       "1     572\n",
       "Name: target, dtype: int64"
      ]
     },
     "execution_count": 141,
     "metadata": {},
     "output_type": "execute_result"
    }
   ],
   "source": [
    "df.target.value_counts()"
   ]
  },
  {
   "cell_type": "code",
   "execution_count": 140,
   "metadata": {},
   "outputs": [],
   "source": [
    "\n",
    "X = df.drop(['auction_id', 'date', 'device_make', 'yes', 'no', 'engaged', 'target'], axis = 1)\n",
    "y = df.target"
   ]
  },
  {
   "cell_type": "code",
   "execution_count": 155,
   "metadata": {},
   "outputs": [
    {
     "ename": "TypeError",
     "evalue": "Cannot compare types 'ndarray(dtype=int64)' and 'str'",
     "output_type": "error",
     "traceback": [
      "\u001b[1;31m---------------------------------------------------------------------------\u001b[0m",
      "\u001b[1;31mTypeError\u001b[0m                                 Traceback (most recent call last)",
      "\u001b[1;32m<ipython-input-155-8d68c58b98e6>\u001b[0m in \u001b[0;36m<module>\u001b[1;34m\u001b[0m\n\u001b[0;32m      1\u001b[0m \u001b[0md\u001b[0m \u001b[1;33m=\u001b[0m \u001b[1;33m{\u001b[0m\u001b[1;34m'control'\u001b[0m\u001b[1;33m:\u001b[0m \u001b[1;36m0\u001b[0m\u001b[1;33m,\u001b[0m \u001b[1;34m'exposed'\u001b[0m\u001b[1;33m:\u001b[0m\u001b[1;36m1\u001b[0m\u001b[1;33m}\u001b[0m\u001b[1;33m\u001b[0m\u001b[1;33m\u001b[0m\u001b[0m\n\u001b[1;32m----> 2\u001b[1;33m \u001b[0mX\u001b[0m\u001b[1;33m.\u001b[0m\u001b[0mexperiment\u001b[0m \u001b[1;33m=\u001b[0m \u001b[0mX\u001b[0m\u001b[1;33m.\u001b[0m\u001b[0mexperiment\u001b[0m\u001b[1;33m.\u001b[0m\u001b[0mreplace\u001b[0m\u001b[1;33m(\u001b[0m\u001b[0md\u001b[0m\u001b[1;33m)\u001b[0m\u001b[1;33m\u001b[0m\u001b[1;33m\u001b[0m\u001b[0m\n\u001b[0m\u001b[0;32m      3\u001b[0m \u001b[1;33m\u001b[0m\u001b[0m\n\u001b[0;32m      4\u001b[0m \u001b[0mX\u001b[0m \u001b[1;33m=\u001b[0m \u001b[0mpd\u001b[0m\u001b[1;33m.\u001b[0m\u001b[0mget_dummies\u001b[0m\u001b[1;33m(\u001b[0m\u001b[0mX\u001b[0m\u001b[1;33m)\u001b[0m\u001b[1;33m\u001b[0m\u001b[1;33m\u001b[0m\u001b[0m\n",
      "\u001b[1;32m~anaconda3\\lib\\site-packages\\pandas\\core\\series.py\u001b[0m in \u001b[0;36mreplace\u001b[1;34m(self, to_replace, value, inplace, limit, regex, method)\u001b[0m\n\u001b[0;32m   4176\u001b[0m             \u001b[0mlimit\u001b[0m\u001b[1;33m=\u001b[0m\u001b[0mlimit\u001b[0m\u001b[1;33m,\u001b[0m\u001b[1;33m\u001b[0m\u001b[1;33m\u001b[0m\u001b[0m\n\u001b[0;32m   4177\u001b[0m             \u001b[0mregex\u001b[0m\u001b[1;33m=\u001b[0m\u001b[0mregex\u001b[0m\u001b[1;33m,\u001b[0m\u001b[1;33m\u001b[0m\u001b[1;33m\u001b[0m\u001b[0m\n\u001b[1;32m-> 4178\u001b[1;33m             \u001b[0mmethod\u001b[0m\u001b[1;33m=\u001b[0m\u001b[0mmethod\u001b[0m\u001b[1;33m,\u001b[0m\u001b[1;33m\u001b[0m\u001b[1;33m\u001b[0m\u001b[0m\n\u001b[0m\u001b[0;32m   4179\u001b[0m         )\n\u001b[0;32m   4180\u001b[0m \u001b[1;33m\u001b[0m\u001b[0m\n",
      "\u001b[1;32m~anaconda3\\lib\\site-packages\\pandas\\core\\generic.py\u001b[0m in \u001b[0;36mreplace\u001b[1;34m(self, to_replace, value, inplace, limit, regex, method)\u001b[0m\n\u001b[0;32m   6644\u001b[0m \u001b[1;33m\u001b[0m\u001b[0m\n\u001b[0;32m   6645\u001b[0m             return self.replace(\n\u001b[1;32m-> 6646\u001b[1;33m                 \u001b[0mto_replace\u001b[0m\u001b[1;33m,\u001b[0m \u001b[0mvalue\u001b[0m\u001b[1;33m,\u001b[0m \u001b[0minplace\u001b[0m\u001b[1;33m=\u001b[0m\u001b[0minplace\u001b[0m\u001b[1;33m,\u001b[0m \u001b[0mlimit\u001b[0m\u001b[1;33m=\u001b[0m\u001b[0mlimit\u001b[0m\u001b[1;33m,\u001b[0m \u001b[0mregex\u001b[0m\u001b[1;33m=\u001b[0m\u001b[0mregex\u001b[0m\u001b[1;33m\u001b[0m\u001b[1;33m\u001b[0m\u001b[0m\n\u001b[0m\u001b[0;32m   6647\u001b[0m             )\n\u001b[0;32m   6648\u001b[0m         \u001b[1;32melse\u001b[0m\u001b[1;33m:\u001b[0m\u001b[1;33m\u001b[0m\u001b[1;33m\u001b[0m\u001b[0m\n",
      "\u001b[1;32m~anaconda3\\lib\\site-packages\\pandas\\core\\series.py\u001b[0m in \u001b[0;36mreplace\u001b[1;34m(self, to_replace, value, inplace, limit, regex, method)\u001b[0m\n\u001b[0;32m   4176\u001b[0m             \u001b[0mlimit\u001b[0m\u001b[1;33m=\u001b[0m\u001b[0mlimit\u001b[0m\u001b[1;33m,\u001b[0m\u001b[1;33m\u001b[0m\u001b[1;33m\u001b[0m\u001b[0m\n\u001b[0;32m   4177\u001b[0m             \u001b[0mregex\u001b[0m\u001b[1;33m=\u001b[0m\u001b[0mregex\u001b[0m\u001b[1;33m,\u001b[0m\u001b[1;33m\u001b[0m\u001b[1;33m\u001b[0m\u001b[0m\n\u001b[1;32m-> 4178\u001b[1;33m             \u001b[0mmethod\u001b[0m\u001b[1;33m=\u001b[0m\u001b[0mmethod\u001b[0m\u001b[1;33m,\u001b[0m\u001b[1;33m\u001b[0m\u001b[1;33m\u001b[0m\u001b[0m\n\u001b[0m\u001b[0;32m   4179\u001b[0m         )\n\u001b[0;32m   4180\u001b[0m \u001b[1;33m\u001b[0m\u001b[0m\n",
      "\u001b[1;32m~anaconda3\\lib\\site-packages\\pandas\\core\\generic.py\u001b[0m in \u001b[0;36mreplace\u001b[1;34m(self, to_replace, value, inplace, limit, regex, method)\u001b[0m\n\u001b[0;32m   6697\u001b[0m                         \u001b[0mdest_list\u001b[0m\u001b[1;33m=\u001b[0m\u001b[0mvalue\u001b[0m\u001b[1;33m,\u001b[0m\u001b[1;33m\u001b[0m\u001b[1;33m\u001b[0m\u001b[0m\n\u001b[0;32m   6698\u001b[0m                         \u001b[0minplace\u001b[0m\u001b[1;33m=\u001b[0m\u001b[0minplace\u001b[0m\u001b[1;33m,\u001b[0m\u001b[1;33m\u001b[0m\u001b[1;33m\u001b[0m\u001b[0m\n\u001b[1;32m-> 6699\u001b[1;33m                         \u001b[0mregex\u001b[0m\u001b[1;33m=\u001b[0m\u001b[0mregex\u001b[0m\u001b[1;33m,\u001b[0m\u001b[1;33m\u001b[0m\u001b[1;33m\u001b[0m\u001b[0m\n\u001b[0m\u001b[0;32m   6700\u001b[0m                     )\n\u001b[0;32m   6701\u001b[0m \u001b[1;33m\u001b[0m\u001b[0m\n",
      "\u001b[1;32m~anaconda3\\lib\\site-packages\\pandas\\core\\internals\\managers.py\u001b[0m in \u001b[0;36mreplace_list\u001b[1;34m(self, src_list, dest_list, inplace, regex)\u001b[0m\n\u001b[0;32m    611\u001b[0m             \u001b[1;32mreturn\u001b[0m \u001b[0m_compare_or_regex_search\u001b[0m\u001b[1;33m(\u001b[0m\u001b[0mvalues\u001b[0m\u001b[1;33m,\u001b[0m \u001b[0ms\u001b[0m\u001b[1;33m,\u001b[0m \u001b[0mregex\u001b[0m\u001b[1;33m)\u001b[0m\u001b[1;33m\u001b[0m\u001b[1;33m\u001b[0m\u001b[0m\n\u001b[0;32m    612\u001b[0m \u001b[1;33m\u001b[0m\u001b[0m\n\u001b[1;32m--> 613\u001b[1;33m         \u001b[0mmasks\u001b[0m \u001b[1;33m=\u001b[0m \u001b[1;33m[\u001b[0m\u001b[0mcomp\u001b[0m\u001b[1;33m(\u001b[0m\u001b[0ms\u001b[0m\u001b[1;33m,\u001b[0m \u001b[0mregex\u001b[0m\u001b[1;33m)\u001b[0m \u001b[1;32mfor\u001b[0m \u001b[0mi\u001b[0m\u001b[1;33m,\u001b[0m \u001b[0ms\u001b[0m \u001b[1;32min\u001b[0m \u001b[0menumerate\u001b[0m\u001b[1;33m(\u001b[0m\u001b[0msrc_list\u001b[0m\u001b[1;33m)\u001b[0m\u001b[1;33m]\u001b[0m\u001b[1;33m\u001b[0m\u001b[1;33m\u001b[0m\u001b[0m\n\u001b[0m\u001b[0;32m    614\u001b[0m \u001b[1;33m\u001b[0m\u001b[0m\n\u001b[0;32m    615\u001b[0m         \u001b[0mresult_blocks\u001b[0m \u001b[1;33m=\u001b[0m \u001b[1;33m[\u001b[0m\u001b[1;33m]\u001b[0m\u001b[1;33m\u001b[0m\u001b[1;33m\u001b[0m\u001b[0m\n",
      "\u001b[1;32m~anaconda3\\lib\\site-packages\\pandas\\core\\internals\\managers.py\u001b[0m in \u001b[0;36m<listcomp>\u001b[1;34m(.0)\u001b[0m\n\u001b[0;32m    611\u001b[0m             \u001b[1;32mreturn\u001b[0m \u001b[0m_compare_or_regex_search\u001b[0m\u001b[1;33m(\u001b[0m\u001b[0mvalues\u001b[0m\u001b[1;33m,\u001b[0m \u001b[0ms\u001b[0m\u001b[1;33m,\u001b[0m \u001b[0mregex\u001b[0m\u001b[1;33m)\u001b[0m\u001b[1;33m\u001b[0m\u001b[1;33m\u001b[0m\u001b[0m\n\u001b[0;32m    612\u001b[0m \u001b[1;33m\u001b[0m\u001b[0m\n\u001b[1;32m--> 613\u001b[1;33m         \u001b[0mmasks\u001b[0m \u001b[1;33m=\u001b[0m \u001b[1;33m[\u001b[0m\u001b[0mcomp\u001b[0m\u001b[1;33m(\u001b[0m\u001b[0ms\u001b[0m\u001b[1;33m,\u001b[0m \u001b[0mregex\u001b[0m\u001b[1;33m)\u001b[0m \u001b[1;32mfor\u001b[0m \u001b[0mi\u001b[0m\u001b[1;33m,\u001b[0m \u001b[0ms\u001b[0m \u001b[1;32min\u001b[0m \u001b[0menumerate\u001b[0m\u001b[1;33m(\u001b[0m\u001b[0msrc_list\u001b[0m\u001b[1;33m)\u001b[0m\u001b[1;33m]\u001b[0m\u001b[1;33m\u001b[0m\u001b[1;33m\u001b[0m\u001b[0m\n\u001b[0m\u001b[0;32m    614\u001b[0m \u001b[1;33m\u001b[0m\u001b[0m\n\u001b[0;32m    615\u001b[0m         \u001b[0mresult_blocks\u001b[0m \u001b[1;33m=\u001b[0m \u001b[1;33m[\u001b[0m\u001b[1;33m]\u001b[0m\u001b[1;33m\u001b[0m\u001b[1;33m\u001b[0m\u001b[0m\n",
      "\u001b[1;32m~anaconda3\\lib\\site-packages\\pandas\\core\\internals\\managers.py\u001b[0m in \u001b[0;36mcomp\u001b[1;34m(s, regex)\u001b[0m\n\u001b[0;32m    609\u001b[0m                     \u001b[0mmaybe_convert_objects\u001b[0m\u001b[1;33m(\u001b[0m\u001b[0mvalues\u001b[0m\u001b[1;33m)\u001b[0m\u001b[1;33m,\u001b[0m \u001b[0ms\u001b[0m\u001b[1;33m.\u001b[0m\u001b[0masm8\u001b[0m\u001b[1;33m,\u001b[0m \u001b[0mregex\u001b[0m\u001b[1;33m\u001b[0m\u001b[1;33m\u001b[0m\u001b[0m\n\u001b[0;32m    610\u001b[0m                 )\n\u001b[1;32m--> 611\u001b[1;33m             \u001b[1;32mreturn\u001b[0m \u001b[0m_compare_or_regex_search\u001b[0m\u001b[1;33m(\u001b[0m\u001b[0mvalues\u001b[0m\u001b[1;33m,\u001b[0m \u001b[0ms\u001b[0m\u001b[1;33m,\u001b[0m \u001b[0mregex\u001b[0m\u001b[1;33m)\u001b[0m\u001b[1;33m\u001b[0m\u001b[1;33m\u001b[0m\u001b[0m\n\u001b[0m\u001b[0;32m    612\u001b[0m \u001b[1;33m\u001b[0m\u001b[0m\n\u001b[0;32m    613\u001b[0m         \u001b[0mmasks\u001b[0m \u001b[1;33m=\u001b[0m \u001b[1;33m[\u001b[0m\u001b[0mcomp\u001b[0m\u001b[1;33m(\u001b[0m\u001b[0ms\u001b[0m\u001b[1;33m,\u001b[0m \u001b[0mregex\u001b[0m\u001b[1;33m)\u001b[0m \u001b[1;32mfor\u001b[0m \u001b[0mi\u001b[0m\u001b[1;33m,\u001b[0m \u001b[0ms\u001b[0m \u001b[1;32min\u001b[0m \u001b[0menumerate\u001b[0m\u001b[1;33m(\u001b[0m\u001b[0msrc_list\u001b[0m\u001b[1;33m)\u001b[0m\u001b[1;33m]\u001b[0m\u001b[1;33m\u001b[0m\u001b[1;33m\u001b[0m\u001b[0m\n",
      "\u001b[1;32m~anaconda3\\lib\\site-packages\\pandas\\core\\internals\\managers.py\u001b[0m in \u001b[0;36m_compare_or_regex_search\u001b[1;34m(a, b, regex)\u001b[0m\n\u001b[0;32m   1934\u001b[0m \u001b[1;33m\u001b[0m\u001b[0m\n\u001b[0;32m   1935\u001b[0m         raise TypeError(\n\u001b[1;32m-> 1936\u001b[1;33m             \u001b[1;34mf\"Cannot compare types {repr(type_names[0])} and {repr(type_names[1])}\"\u001b[0m\u001b[1;33m\u001b[0m\u001b[1;33m\u001b[0m\u001b[0m\n\u001b[0m\u001b[0;32m   1937\u001b[0m         )\n\u001b[0;32m   1938\u001b[0m     \u001b[1;32mreturn\u001b[0m \u001b[0mresult\u001b[0m\u001b[1;33m\u001b[0m\u001b[1;33m\u001b[0m\u001b[0m\n",
      "\u001b[1;31mTypeError\u001b[0m: Cannot compare types 'ndarray(dtype=int64)' and 'str'"
     ]
    }
   ],
   "source": [
    "#Turn categorical variables to dummies\n",
    "d = {'control': 0, 'exposed':1}\n",
    "X.experiment = X.experiment.replace(d)\n",
    "\n",
    "X = pd.get_dummies(X) ; X.head()"
   ]
  },
  {
   "cell_type": "code",
   "execution_count": 143,
   "metadata": {},
   "outputs": [],
   "source": [
    "\n",
    "X_train, X_test, y_train, y_test = train_test_split(X, y, test_size = .1, random_state = 10) #split dataset"
   ]
  },
  {
   "cell_type": "code",
   "execution_count": 154,
   "metadata": {},
   "outputs": [
    {
     "name": "stdout",
     "output_type": "stream",
     "text": [
      "[0]\tvalidation_0-merror:0.153116\tvalidation_1-merror:0.157178\n",
      "Multiple eval metrics have been passed: 'validation_1-merror' will be used for early stopping.\n",
      "\n",
      "Will train until validation_1-merror hasn't improved in 100 rounds.\n",
      "[1]\tvalidation_0-merror:0.153116\tvalidation_1-merror:0.157178\n",
      "[2]\tvalidation_0-merror:0.153391\tvalidation_1-merror:0.157178\n",
      "[3]\tvalidation_0-merror:0.153391\tvalidation_1-merror:0.157178\n",
      "[4]\tvalidation_0-merror:0.153391\tvalidation_1-merror:0.157178\n",
      "[5]\tvalidation_0-merror:0.153391\tvalidation_1-merror:0.157178\n",
      "[6]\tvalidation_0-merror:0.153391\tvalidation_1-merror:0.157178\n",
      "[7]\tvalidation_0-merror:0.153391\tvalidation_1-merror:0.157178\n",
      "[8]\tvalidation_0-merror:0.153391\tvalidation_1-merror:0.157178\n",
      "[9]\tvalidation_0-merror:0.153391\tvalidation_1-merror:0.157178\n",
      "[10]\tvalidation_0-merror:0.153254\tvalidation_1-merror:0.157178\n",
      "[11]\tvalidation_0-merror:0.153391\tvalidation_1-merror:0.157178\n",
      "[12]\tvalidation_0-merror:0.153391\tvalidation_1-merror:0.157178\n",
      "[13]\tvalidation_0-merror:0.153391\tvalidation_1-merror:0.157178\n",
      "[14]\tvalidation_0-merror:0.153391\tvalidation_1-merror:0.157178\n",
      "[15]\tvalidation_0-merror:0.153391\tvalidation_1-merror:0.157178\n",
      "[16]\tvalidation_0-merror:0.153391\tvalidation_1-merror:0.157178\n",
      "[17]\tvalidation_0-merror:0.153391\tvalidation_1-merror:0.157178\n",
      "[18]\tvalidation_0-merror:0.153391\tvalidation_1-merror:0.157178\n",
      "[19]\tvalidation_0-merror:0.153391\tvalidation_1-merror:0.157178\n",
      "[20]\tvalidation_0-merror:0.153391\tvalidation_1-merror:0.157178\n",
      "[21]\tvalidation_0-merror:0.153391\tvalidation_1-merror:0.157178\n",
      "[22]\tvalidation_0-merror:0.153391\tvalidation_1-merror:0.157178\n",
      "[23]\tvalidation_0-merror:0.153391\tvalidation_1-merror:0.157178\n",
      "[24]\tvalidation_0-merror:0.153391\tvalidation_1-merror:0.157178\n",
      "[25]\tvalidation_0-merror:0.153391\tvalidation_1-merror:0.157178\n",
      "[26]\tvalidation_0-merror:0.153391\tvalidation_1-merror:0.157178\n",
      "[27]\tvalidation_0-merror:0.153391\tvalidation_1-merror:0.157178\n",
      "[28]\tvalidation_0-merror:0.153391\tvalidation_1-merror:0.157178\n",
      "[29]\tvalidation_0-merror:0.153391\tvalidation_1-merror:0.157178\n",
      "[30]\tvalidation_0-merror:0.153391\tvalidation_1-merror:0.157178\n",
      "[31]\tvalidation_0-merror:0.153391\tvalidation_1-merror:0.157178\n",
      "[32]\tvalidation_0-merror:0.153391\tvalidation_1-merror:0.157178\n",
      "[33]\tvalidation_0-merror:0.153391\tvalidation_1-merror:0.157178\n",
      "[34]\tvalidation_0-merror:0.153391\tvalidation_1-merror:0.157178\n",
      "[35]\tvalidation_0-merror:0.153391\tvalidation_1-merror:0.157178\n",
      "[36]\tvalidation_0-merror:0.153391\tvalidation_1-merror:0.157178\n",
      "[37]\tvalidation_0-merror:0.153391\tvalidation_1-merror:0.157178\n",
      "[38]\tvalidation_0-merror:0.153391\tvalidation_1-merror:0.157178\n",
      "[39]\tvalidation_0-merror:0.153391\tvalidation_1-merror:0.157178\n",
      "[40]\tvalidation_0-merror:0.153391\tvalidation_1-merror:0.157178\n",
      "[41]\tvalidation_0-merror:0.153391\tvalidation_1-merror:0.157178\n",
      "[42]\tvalidation_0-merror:0.153391\tvalidation_1-merror:0.157178\n",
      "[43]\tvalidation_0-merror:0.153391\tvalidation_1-merror:0.157178\n",
      "[44]\tvalidation_0-merror:0.153391\tvalidation_1-merror:0.157178\n",
      "[45]\tvalidation_0-merror:0.153391\tvalidation_1-merror:0.157178\n",
      "[46]\tvalidation_0-merror:0.153391\tvalidation_1-merror:0.157178\n",
      "[47]\tvalidation_0-merror:0.153391\tvalidation_1-merror:0.157178\n",
      "[48]\tvalidation_0-merror:0.153254\tvalidation_1-merror:0.157178\n",
      "[49]\tvalidation_0-merror:0.153254\tvalidation_1-merror:0.157178\n",
      "[50]\tvalidation_0-merror:0.153116\tvalidation_1-merror:0.157178\n",
      "[51]\tvalidation_0-merror:0.153116\tvalidation_1-merror:0.157178\n",
      "[52]\tvalidation_0-merror:0.153116\tvalidation_1-merror:0.157178\n",
      "[53]\tvalidation_0-merror:0.153116\tvalidation_1-merror:0.157178\n",
      "[54]\tvalidation_0-merror:0.153116\tvalidation_1-merror:0.157178\n",
      "[55]\tvalidation_0-merror:0.153116\tvalidation_1-merror:0.157178\n",
      "[56]\tvalidation_0-merror:0.153116\tvalidation_1-merror:0.157178\n",
      "[57]\tvalidation_0-merror:0.153116\tvalidation_1-merror:0.157178\n",
      "[58]\tvalidation_0-merror:0.153116\tvalidation_1-merror:0.157178\n",
      "[59]\tvalidation_0-merror:0.153116\tvalidation_1-merror:0.157178\n",
      "[60]\tvalidation_0-merror:0.153116\tvalidation_1-merror:0.157178\n",
      "[61]\tvalidation_0-merror:0.153116\tvalidation_1-merror:0.157178\n",
      "[62]\tvalidation_0-merror:0.153116\tvalidation_1-merror:0.157178\n",
      "[63]\tvalidation_0-merror:0.153116\tvalidation_1-merror:0.157178\n",
      "[64]\tvalidation_0-merror:0.153116\tvalidation_1-merror:0.157178\n",
      "[65]\tvalidation_0-merror:0.153116\tvalidation_1-merror:0.157178\n",
      "[66]\tvalidation_0-merror:0.153116\tvalidation_1-merror:0.157178\n",
      "[67]\tvalidation_0-merror:0.153116\tvalidation_1-merror:0.157178\n",
      "[68]\tvalidation_0-merror:0.153116\tvalidation_1-merror:0.157178\n",
      "[69]\tvalidation_0-merror:0.153116\tvalidation_1-merror:0.157178\n",
      "[70]\tvalidation_0-merror:0.153116\tvalidation_1-merror:0.157178\n",
      "[71]\tvalidation_0-merror:0.153116\tvalidation_1-merror:0.157178\n",
      "[72]\tvalidation_0-merror:0.153116\tvalidation_1-merror:0.157178\n",
      "[73]\tvalidation_0-merror:0.153116\tvalidation_1-merror:0.157178\n",
      "[74]\tvalidation_0-merror:0.153116\tvalidation_1-merror:0.157178\n",
      "[75]\tvalidation_0-merror:0.153116\tvalidation_1-merror:0.157178\n",
      "[76]\tvalidation_0-merror:0.153116\tvalidation_1-merror:0.157178\n",
      "[77]\tvalidation_0-merror:0.153116\tvalidation_1-merror:0.157178\n",
      "[78]\tvalidation_0-merror:0.153116\tvalidation_1-merror:0.157178\n",
      "[79]\tvalidation_0-merror:0.153116\tvalidation_1-merror:0.157178\n",
      "[80]\tvalidation_0-merror:0.153116\tvalidation_1-merror:0.157178\n",
      "[81]\tvalidation_0-merror:0.153116\tvalidation_1-merror:0.157178\n",
      "[82]\tvalidation_0-merror:0.153116\tvalidation_1-merror:0.157178\n",
      "[83]\tvalidation_0-merror:0.153116\tvalidation_1-merror:0.157178\n",
      "[84]\tvalidation_0-merror:0.153116\tvalidation_1-merror:0.157178\n",
      "[85]\tvalidation_0-merror:0.153116\tvalidation_1-merror:0.157178\n",
      "[86]\tvalidation_0-merror:0.153116\tvalidation_1-merror:0.157178\n",
      "[87]\tvalidation_0-merror:0.153116\tvalidation_1-merror:0.157178\n",
      "[88]\tvalidation_0-merror:0.153116\tvalidation_1-merror:0.157178\n",
      "[89]\tvalidation_0-merror:0.153116\tvalidation_1-merror:0.157178\n",
      "[90]\tvalidation_0-merror:0.153116\tvalidation_1-merror:0.157178\n",
      "[91]\tvalidation_0-merror:0.153116\tvalidation_1-merror:0.157178\n",
      "[92]\tvalidation_0-merror:0.153116\tvalidation_1-merror:0.157178\n",
      "[93]\tvalidation_0-merror:0.153116\tvalidation_1-merror:0.157178\n",
      "[94]\tvalidation_0-merror:0.153116\tvalidation_1-merror:0.157178\n",
      "[95]\tvalidation_0-merror:0.153116\tvalidation_1-merror:0.157178\n",
      "[96]\tvalidation_0-merror:0.153116\tvalidation_1-merror:0.157178\n",
      "[97]\tvalidation_0-merror:0.153116\tvalidation_1-merror:0.157178\n",
      "[98]\tvalidation_0-merror:0.153116\tvalidation_1-merror:0.157178\n",
      "[99]\tvalidation_0-merror:0.153116\tvalidation_1-merror:0.157178\n"
     ]
    },
    {
     "data": {
      "text/plain": [
       "XGBClassifier(colsample_bylevel=0.8, objective='multi:softprob',\n",
       "              random_state=42)"
      ]
     },
     "execution_count": 154,
     "metadata": {},
     "output_type": "execute_result"
    }
   ],
   "source": [
    "xgb = XGBClassifier(random_state=42, colsample_bylevel=.8, subsample=1)\n",
    "xgb.fit(X_train, y_train, eval_set= [(X_train, y_train), (X_test, y_test)], early_stopping_rounds = 100)"
   ]
  },
  {
   "cell_type": "code",
   "execution_count": 167,
   "metadata": {},
   "outputs": [],
   "source": [
    "# !pip freeze > requirements.txt"
   ]
  },
  {
   "cell_type": "code",
   "execution_count": null,
   "metadata": {},
   "outputs": [],
   "source": []
  }
 ],
 "metadata": {
  "kernelspec": {
   "display_name": "Python 3",
   "language": "python",
   "name": "python3"
  },
  "language_info": {
   "codemirror_mode": {
    "name": "ipython",
    "version": 3
   },
   "file_extension": ".py",
   "mimetype": "text/x-python",
   "name": "python",
   "nbconvert_exporter": "python",
   "pygments_lexer": "ipython3",
   "version": "3.7.7"
  }
 },
 "nbformat": 4,
 "nbformat_minor": 4
}
